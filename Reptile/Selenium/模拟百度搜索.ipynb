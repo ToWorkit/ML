{
 "cells": [
  {
   "cell_type": "code",
   "execution_count": 3,
   "metadata": {},
   "outputs": [],
   "source": [
    "from selenium import webdriver"
   ]
  },
  {
   "cell_type": "code",
   "execution_count": 4,
   "metadata": {},
   "outputs": [],
   "source": [
    "# 建立对象\n",
    "browser = webdriver.PhantomJS()"
   ]
  },
  {
   "cell_type": "code",
   "execution_count": 5,
   "metadata": {},
   "outputs": [],
   "source": [
    "url = 'https://www.baidu.com'"
   ]
  },
  {
   "cell_type": "code",
   "execution_count": 6,
   "metadata": {},
   "outputs": [],
   "source": [
    "# get访问\n",
    "browser.get(url)"
   ]
  },
  {
   "cell_type": "code",
   "execution_count": 7,
   "metadata": {},
   "outputs": [],
   "source": [
    "# 浏览器解释js脚本是需要时间的，implictly_wait可以完美解决\n",
    "browser.implicitly_wait(3)"
   ]
  },
  {
   "cell_type": "code",
   "execution_count": 8,
   "metadata": {},
   "outputs": [],
   "source": [
    "# 找到输入搜索框\n",
    "text = browser.find_element_by_id('kw')"
   ]
  },
  {
   "cell_type": "code",
   "execution_count": 9,
   "metadata": {},
   "outputs": [],
   "source": [
    "# 清空输入框的默认或者其他内容\n",
    "text.clear()"
   ]
  },
  {
   "cell_type": "code",
   "execution_count": 10,
   "metadata": {},
   "outputs": [],
   "source": [
    "# 填写想要搜索的文字\n",
    "text.send_keys('I Need Av')"
   ]
  },
  {
   "cell_type": "code",
   "execution_count": 11,
   "metadata": {},
   "outputs": [],
   "source": [
    "# 找到搜索按钮\n",
    "button = browser.find_element_by_id('su')"
   ]
  },
  {
   "cell_type": "code",
   "execution_count": 12,
   "metadata": {},
   "outputs": [],
   "source": [
    "# 触发请求\n",
    "button.submit()"
   ]
  },
  {
   "cell_type": "code",
   "execution_count": 13,
   "metadata": {},
   "outputs": [
    {
     "name": "stdout",
     "output_type": "stream",
     "text": [
      "I Need Av_百度搜索\n"
     ]
    }
   ],
   "source": [
    "# 查看当前浏览器标题\n",
    "print(browser.title)"
   ]
  },
  {
   "cell_type": "code",
   "execution_count": 15,
   "metadata": {},
   "outputs": [],
   "source": [
    "# 以图片的方式查看浏览器的页面\n",
    "# browser.save_screenshot('text.png')"
   ]
  },
  {
   "cell_type": "code",
   "execution_count": 20,
   "metadata": {},
   "outputs": [
    {
     "name": "stdout",
     "output_type": "stream",
     "text": [
      "标题: i need av什么意思_百度知道\t 超链接: http://www.baidu.com/link?url=9mOS4ZYCrtjZIb4romEPkFgNrvx2in7CHCAjeTUSU3_ngBbXFQcdrVIDYkE2eVyTvXfqOP9KrhSWWwUdYogIaggH2AvYGWpP4sKsvdAPDhy\n",
      "\n",
      "标题: i need av_百度图片\t 超链接: http://www.baidu.com/link?url=Bq_n8fDPCwQu2YQ3yzQjNWt6xKvOPvlZGjsCc-9riGw30lf2LWAK7ruT8RiccyQghUZuETP8j6yyQj7WX1Zf318ljI8yoF4SHpgf_IGWXCGawghyGwbgKN8kdG0-w0cK_P61-3wdiMmOke12j_baEC4kszdJ2g5B0r_nmlcrPz5cnfdkIg3_R4RSXkCVkdsfJUS56lYnXItEDxpR_2UFhUfDk61I7g0EOXCDF5GuiyK\n",
      "\n",
      "标题: i need av_百度翻译\t 超链接: http://www.baidu.com/link?url=rebqiq1_f6ZFh7fKu1UWjzvTuuVn_9Og8C42SFnRJh7YhA4ChGSz5EHEP5IEUEVKAI0Huy2JLH4m3FaieGsoZK\n",
      "\n",
      "标题: 敢问哪位大神有我需要安慰I need AV的图,原版的_暴漫表..._百度贴吧\t 超链接: http://www.baidu.com/link?url=PAB7Klhts1pJvGWfoiOoEDcagB8FEqoMzHE6QHoCkOP3z4tTt1AfU59h-Gb-Y7Yz\n",
      "\n",
      "标题: 我需要安慰【I need AV】【李毅吧】_百度贴吧\t 超链接: http://www.baidu.com/link?url=2mJsvLjOxv3C6DCrbzhBp9eKUONBpgW-d-W6E5HWgAxg0LYkKZCUDDFndN1Ahvqg\n",
      "\n",
      "标题: 我需要安慰 I need AV 妈蛋表情网_md.itlun.cn\t 超链接: http://www.baidu.com/link?url=ejMFJeX45ZBSR0YJtAwosQN8-hvcsPoD42s8iRjd_ccdiE1FP2Id5ny93LweZYHq\n",
      "\n",
      "标题: I Need AV(我需要安慰)…-永恒经验交流区-永恒之塔-多玩游戏论坛 -\t 超链接: http://www.baidu.com/link?url=kL4RyEYqaTG7Rgu3i-3jTolXIv_TgmsLpW4b5Tb4Kf64KkWqTZUR2v9-T_vo2THcnAYAWdT7wgZSpWaqmzhB7K\n",
      "\n",
      "标题: I need AV 的意思_百度作业帮\t 超链接: http://www.baidu.com/link?url=WjM8Xv-FhXh4jJLBWIQx_z0ZYyMTvGn6DPlkg484_8A02huGXfe6OHhpTJ-b6yXr83-yjsoFTX3NQuGoefcHtFURQ06z_gc5ptgWJmC-HnS\n",
      "\n",
      "标题: I need av是啥意思_百度知道\t 超链接: http://www.baidu.com/link?url=d_deYFxkzJxSL9ju5eT_p-imBwS-I-1r0td_2H2coqeIsXW-hXQf2f14n-vdeAZYnUAGYpXn6ui6FQ3lTPYclcPWiwU7XiBLPcbqRHAdyr_\n",
      "\n",
      "标题: 求I need av我需要安慰这张图【金馆长吧】_百度贴吧\t 超链接: http://www.baidu.com/link?url=TvJLphiG0LOQkR1hPcSnA88_H3PjSBK6DWCOWq2udvyxxi6zL4myXAuoPIwU-uLN\n",
      "\n"
     ]
    }
   ],
   "source": [
    "# 找到结果 并保存为列表变量\n",
    "results = browser.find_elements_by_class_name('t')\n",
    "# 循环遍历找出每个结果的标题和url\n",
    "for result in results:\n",
    "    print('标题: %s\\t 超链接: %s\\n' % (result.text, result.find_element_by_tag_name('a').get_attribute('href')))"
   ]
  }
 ],
 "metadata": {
  "kernelspec": {
   "display_name": "Python 3",
   "language": "python",
   "name": "python3"
  },
  "language_info": {
   "codemirror_mode": {
    "name": "ipython",
    "version": 3
   },
   "file_extension": ".py",
   "mimetype": "text/x-python",
   "name": "python",
   "nbconvert_exporter": "python",
   "pygments_lexer": "ipython3",
   "version": "3.6.0"
  }
 },
 "nbformat": 4,
 "nbformat_minor": 2
}
