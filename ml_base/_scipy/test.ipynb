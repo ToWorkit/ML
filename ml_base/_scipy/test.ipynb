{
 "cells": [
  {
   "cell_type": "code",
   "execution_count": null,
   "metadata": {},
   "outputs": [],
   "source": [
    "'''\n",
    "SciPy函数库在NumPy库的基础上增加了众多的数学、科学以及工程计算中常用的库函数。\n",
    "例如线性代数、常微分方程数值求解、信号处理、图像处理、稀疏矩阵等等。\n",
    "使用SciPy进行插值处理、信号滤波以及用C语言加速计算\n",
    "http://old.sebug.net/paper/books/scipydoc/scipy_intro.html\n",
    "'''\n",
    "# 最小二乘拟合\n",
    "# S(\\mathbf{p}) = \\sum_{i=1}^m [y_i - f(x_i, \\mathbf{p}) ]^2"
   ]
  }
 ],
 "metadata": {
  "kernelspec": {
   "display_name": "Python 3",
   "language": "python",
   "name": "python3"
  },
  "language_info": {
   "codemirror_mode": {
    "name": "ipython",
    "version": 3
   },
   "file_extension": ".py",
   "mimetype": "text/x-python",
   "name": "python",
   "nbconvert_exporter": "python",
   "pygments_lexer": "ipython3",
   "version": "3.6.0"
  }
 },
 "nbformat": 4,
 "nbformat_minor": 2
}
