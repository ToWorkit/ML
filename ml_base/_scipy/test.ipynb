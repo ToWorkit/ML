{
 "cells": [
  {
   "cell_type": "code",
   "execution_count": 1,
   "metadata": {},
   "outputs": [
    {
     "data": {
      "text/plain": [
       "'\\nSciPy函数库在NumPy库的基础上增加了众多的数学、科学以及工程计算中常用的库函数。\\n例如线性代数、常微分方程数值求解、信号处理、图像处理、稀疏矩阵等等。\\n使用SciPy进行插值处理、信号滤波以及用C语言加速计算\\nhttp://old.sebug.net/paper/books/scipydoc/scipy_intro.html\\n'"
      ]
     },
     "execution_count": 1,
     "metadata": {},
     "output_type": "execute_result"
    }
   ],
   "source": [
    "'''\n",
    "SciPy函数库在NumPy库的基础上增加了众多的数学、科学以及工程计算中常用的库函数。\n",
    "例如线性代数、常微分方程数值求解、信号处理、图像处理、稀疏矩阵等等。\n",
    "使用SciPy进行插值处理、信号滤波以及用C语言加速计算\n",
    "http://old.sebug.net/paper/books/scipydoc/scipy_intro.html\n",
    "'''\n",
    "# 最小二乘拟合\n",
    "# S(\\mathbf{p}) = \\sum_{i=1}^m [y_i - f(x_i, \\mathbf{p}) ]^2"
   ]
  },
  {
   "cell_type": "code",
   "execution_count": 2,
   "metadata": {
    "collapsed": true
   },
   "outputs": [],
   "source": [
    "import numpy as np"
   ]
  },
  {
   "cell_type": "code",
   "execution_count": 6,
   "metadata": {},
   "outputs": [
    {
     "name": "stdout",
     "output_type": "stream",
     "text": [
      "[-0.11264636  0.14832018 -0.66039329  0.29818497 -0.7404413   1.14914856\n",
      " -1.42506478  2.14143922 -0.43620338  0.16728468]\n",
      "[[-0.7785918  -0.56964596  0.47639691  0.64473103]\n",
      " [ 2.98744996  0.5198765   0.86549393  2.32050256]]\n"
     ]
    }
   ],
   "source": [
    "# randn -> 从标准正态分布中返回一个或多个样本值\n",
    "print(np.random.randn(10))\n",
    "# 两行四列\n",
    "print(np.random.randn(2, 4))"
   ]
  },
  {
   "cell_type": "code",
   "execution_count": null,
   "metadata": {
    "collapsed": true
   },
   "outputs": [],
   "source": []
  }
 ],
 "metadata": {
  "kernelspec": {
   "display_name": "Python 3",
   "language": "python",
   "name": "python3"
  },
  "language_info": {
   "codemirror_mode": {
    "name": "ipython",
    "version": 3
   },
   "file_extension": ".py",
   "mimetype": "text/x-python",
   "name": "python",
   "nbconvert_exporter": "python",
   "pygments_lexer": "ipython3",
   "version": "3.6.1"
  }
 },
 "nbformat": 4,
 "nbformat_minor": 2
}
