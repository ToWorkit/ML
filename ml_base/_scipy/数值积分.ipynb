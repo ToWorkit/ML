{
 "cells": [
  {
   "cell_type": "code",
   "execution_count": 4,
   "metadata": {
    "collapsed": true
   },
   "outputs": [],
   "source": [
    "# 数值积分是对定积分的数值求解，例如可以利用数值积分计算某个形状的面积\n",
    "# 如何计算半径为1的半圆的面积，根据圆的面积公式，其面积应该等于PI/2\n",
    "import numpy as np"
   ]
  },
  {
   "cell_type": "code",
   "execution_count": 2,
   "metadata": {
    "collapsed": true
   },
   "outputs": [],
   "source": [
    "# 单位半圆曲线可以用下面的函数表示\n",
    "def half_circle(x):\n",
    "    return (1 - x ** 2) ** 0.5"
   ]
  },
  {
   "cell_type": "code",
   "execution_count": 7,
   "metadata": {},
   "outputs": [
    {
     "name": "stdout",
     "output_type": "stream",
     "text": [
      "3.141275168\n",
      "[1 2 3]\n"
     ]
    }
   ],
   "source": [
    "# 使用分小矩形计算面积总和的方式，计算出单位半圆的面积\n",
    "N = 10000\n",
    "# 初值， 终值， 元素个数\n",
    "x = np.linspace(-1, 1, N)\n",
    "dx = 2.0 / N\n",
    "# 圆的一半\n",
    "y = half_circle(x)\n",
    "# 面积的两倍\n",
    "print(dx * np.sum(y[:-1] + y[1:]))\n",
    "t = np.array([1,2,3,4])\n",
    "# 从开头 取到 最后一个的前一个(包含)\n",
    "print(t[:-1])"
   ]
  },
  {
   "cell_type": "code",
   "execution_count": 8,
   "metadata": {},
   "outputs": [
    {
     "name": "stdout",
     "output_type": "stream",
     "text": [
      "3.14158932693\n"
     ]
    }
   ],
   "source": [
    "# 利用上述方式计算出的圆上一系列点的坐标，还可以用numpy.trapz进行数值积分\n",
    "# 此函数计算的是以x,y为顶点坐标的折线与X轴所夹的面积。同样的分割点数，trapz函数的结果更加接近精确值一些\n",
    "print(np.trapz(y, x) * 2)"
   ]
  },
  {
   "cell_type": "code",
   "execution_count": 9,
   "metadata": {},
   "outputs": [
    {
     "name": "stdout",
     "output_type": "stream",
     "text": [
      "1.0002356720661965e-09\n",
      "3.141592653589797\n"
     ]
    }
   ],
   "source": [
    "# 调用scipy.integrate库中的quad函数的话，将会得到非常精确的结果\n",
    "from scipy import integrate\n",
    "# pi 的 一半\n",
    "pi_half, err = integrate.quad(half_circle, -1, 1)\n",
    "print(err)\n",
    "print(pi_half * 2)"
   ]
  },
  {
   "cell_type": "code",
   "execution_count": 11,
   "metadata": {},
   "outputs": [],
   "source": [
    "# 多重定积分的求值可以通过多次调用quad函数实现，\n",
    "# 为了调用方便，integrate库提供了dblquad函数进行二重定积分，tplquad函数进行三重定积分。\n",
    "# 下面以计算单位半球体积为例说明dblquad函数的用法。\n",
    "# 单位半球上的点(x,y,z)符合如下方程：\n",
    "# x ** 2 + y ** 2 + z ** 2 = 1\n",
    "# 因此可以如下定义通过(x,y)坐标计算球面上点的z值的函数：\n",
    "def half_sphere(x, y):\n",
    "    return (1 - x ** 2 - y ** 2) ** 0.5"
   ]
  },
  {
   "cell_type": "code",
   "execution_count": 14,
   "metadata": {},
   "outputs": [
    {
     "name": "stdout",
     "output_type": "stream",
     "text": [
      "(2.094395102393199, 1.0002356720661965e-09)\n",
      "2.0943951023931953\n"
     ]
    }
   ],
   "source": [
    "# X-Y轴平面与此球体的交线为一个单位圆，因此积分区间为此单位圆，可以考虑为X轴坐标从-1到1进行积分，\n",
    "# 而Y轴从 -half_circle(x) 到 half_circle(x) 进行积分，于是可以调用dblquad函数\n",
    "result = integrate.dblquad(half_sphere, -1, 1, lambda x: -half_circle(x), lambda x: half_circle(x))\n",
    "print(result)\n",
    "# 通过球体体积公式计算的半球体积\n",
    "print(np.pi * 4 / 3/ 2)"
   ]
  },
  {
   "cell_type": "code",
   "execution_count": null,
   "metadata": {
    "collapsed": true
   },
   "outputs": [],
   "source": [
    "# dblquad函数的调用方式为：\n",
    "# dblquad(func2d, a, b, gfun, hfun)\n",
    "# 对于func2d(x,y)函数进行二重积分，其中a,b为变量x的积分区间，而gfun(x)到hfun(x)为变量y的积分区间"
   ]
  }
 ],
 "metadata": {
  "kernelspec": {
   "display_name": "Python 3",
   "language": "python",
   "name": "python3"
  },
  "language_info": {
   "codemirror_mode": {
    "name": "ipython",
    "version": 3
   },
   "file_extension": ".py",
   "mimetype": "text/x-python",
   "name": "python",
   "nbconvert_exporter": "python",
   "pygments_lexer": "ipython3",
   "version": "3.6.1"
  }
 },
 "nbformat": 4,
 "nbformat_minor": 2
}
