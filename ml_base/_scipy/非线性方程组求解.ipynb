{
 "cells": [
  {
   "cell_type": "code",
   "execution_count": 1,
   "metadata": {},
   "outputs": [
    {
     "data": {
      "text/plain": [
       "'\\nfunc(x)是计算方程组误差的函数，它的参数x是一个矢量，表示方程组的各个未知数的一组可能解，func返回将x代入方程组之后得到的误差；x0为未知数矢量的初始值。如果要对如下方程组进行求解的话：\\n\\nf1(u1,u2,u3) = 0\\nf2(u1,u2,u3) = 0\\nf3(u1,u2,u3) = 0\\n那么func可以如下定义：\\n\\ndef func(x):\\n    u1,u2,u3 = x\\n    return [f1(u1,u2,u3), f2(u1,u2,u3), f3(u1,u2,u3)]\\n'"
      ]
     },
     "execution_count": 1,
     "metadata": {},
     "output_type": "execute_result"
    }
   ],
   "source": [
    "# http://old.sebug.net/paper/books/scipydoc/scipy_intro.html\n",
    "# optimize库中的fsolve函数可以用来对非线性方程组进行求解\n",
    "# fsolve(func, x0)\n",
    "'''\n",
    "func(x)是计算方程组误差的函数，它的参数x是一个矢量，表示方程组的各个未知数的一组可能解，func返回将x代入方程组之后得到的误差；x0为未知数矢量的初始值。如果要对如下方程组进行求解的话：\n",
    "\n",
    "f1(u1,u2,u3) = 0\n",
    "f2(u1,u2,u3) = 0\n",
    "f3(u1,u2,u3) = 0\n",
    "那么func可以如下定义：\n",
    "\n",
    "def func(x):\n",
    "    u1,u2,u3 = x\n",
    "    return [f1(u1,u2,u3), f2(u1,u2,u3), f3(u1,u2,u3)]\n",
    "'''"
   ]
  },
  {
   "cell_type": "code",
   "execution_count": 2,
   "metadata": {
    "collapsed": true
   },
   "outputs": [],
   "source": [
    "# 求解如下方程组的解\n",
    "'''\n",
    "5 * x_1 + 3 = 0\n",
    "4 * x_0 * x_0 - 2 * sin(x_1 * x_2) = 0\n",
    "x_1 * x_2 - 1.5 = 0\n",
    "'''\n",
    "from scipy.optimize import fsolve\n",
    "from math import sin, cos"
   ]
  },
  {
   "cell_type": "code",
   "execution_count": 5,
   "metadata": {},
   "outputs": [
    {
     "name": "stdout",
     "output_type": "stream",
     "text": [
      "[-0.70622057 -0.6        -2.5       ]\n",
      "\n",
      "[0.0, -9.126033262418787e-14, 5.329070518200751e-15]\n"
     ]
    }
   ],
   "source": [
    "def foo(x):\n",
    "    x_0 = float(x[0])\n",
    "    x_1 = float(x[1])\n",
    "    x_2 = float(x[2])\n",
    "    return [\n",
    "        5 * x_1 + 3,\n",
    "        4 * x_0 * x_0 - 2 * sin(x_1 * x_2),\n",
    "        x_1 * x_2 - 1.5\n",
    "    ]\n",
    "result = fsolve(foo, [1, 1, 1])\n",
    "print(result)\n",
    "print('')\n",
    "# 雅可比矩阵 -> http://old.sebug.net/paper/books/scipydoc/scipy_intro.html\n",
    "print(foo(result))"
   ]
  },
  {
   "cell_type": "code",
   "execution_count": null,
   "metadata": {
    "collapsed": true
   },
   "outputs": [],
   "source": []
  }
 ],
 "metadata": {
  "kernelspec": {
   "display_name": "Python 3",
   "language": "python",
   "name": "python3"
  },
  "language_info": {
   "codemirror_mode": {
    "name": "ipython",
    "version": 3
   },
   "file_extension": ".py",
   "mimetype": "text/x-python",
   "name": "python",
   "nbconvert_exporter": "python",
   "pygments_lexer": "ipython3",
   "version": "3.6.1"
  }
 },
 "nbformat": 4,
 "nbformat_minor": 2
}
