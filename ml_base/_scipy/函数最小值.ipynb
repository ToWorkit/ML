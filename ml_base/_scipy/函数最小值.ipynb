{
 "cells": [
  {
   "cell_type": "code",
   "execution_count": 1,
   "metadata": {
    "collapsed": true
   },
   "outputs": [],
   "source": [
    "# optimize库提供了几个求函数最小值的算法：fmin, fmin_powell, fmin_cg, fmin_bfgs\n",
    "# http://old.sebug.net/paper/books/scipydoc/scipy_intro.html"
   ]
  },
  {
   "cell_type": "code",
   "execution_count": 2,
   "metadata": {
    "collapsed": true
   },
   "outputs": [],
   "source": [
    "# 通过求解卷积的逆运算演示fmin的功能\n",
    "import scipy.optimize as opt\n",
    "import numpy as np"
   ]
  },
  {
   "cell_type": "code",
   "execution_count": 7,
   "metadata": {},
   "outputs": [
    {
     "name": "stdout",
     "output_type": "stream",
     "text": [
      "Warning: Maximum number of function evaluations has been exceeded.\n",
      "fmin\n",
      "----------------\n",
      "x (*) h_0 和 y 之间 的相对误差(error of y): 0.00270631251199\n",
      "h_0 和 h 之间的相对误差(error of h): 0.127309246169\n",
      "=================\n",
      "Optimization terminated successfully.\n",
      "         Current function value: 0.198888\n",
      "         Iterations: 49\n",
      "         Function evaluations: 9078\n",
      "fmin_powell\n",
      "----------------\n",
      "x (*) h_0 和 y 之间 的相对误差(error of y): 0.000114927051766\n",
      "h_0 和 h 之间的相对误差(error of h): 0.000360034800523\n",
      "=================\n",
      "Warning: Desired error not necessarily achieved due to precision loss.\n",
      "         Current function value: 0.199160\n",
      "         Iterations: 6\n",
      "         Function evaluations: 276\n",
      "         Gradient evaluations: 12\n",
      "fmin_cg\n",
      "----------------\n",
      "x (*) h_0 和 y 之间 的相对误差(error of y): 0.000117058041447\n",
      "h_0 和 h 之间的相对误差(error of h): 0.000368232502529\n",
      "=================\n",
      "Optimization terminated successfully.\n",
      "         Current function value: 0.198888\n",
      "         Iterations: 32\n",
      "         Function evaluations: 1012\n",
      "         Gradient evaluations: 46\n",
      "fmin_bfgs\n",
      "----------------\n",
      "x (*) h_0 和 y 之间 的相对误差(error of y): 0.000114903201574\n",
      "h_0 和 h 之间的相对误差(error of h): 0.000360134645172\n",
      "=================\n"
     ]
    }
   ],
   "source": [
    "def test_fmin_convolve(fminfunc, x, h, y, y_n, x_0):\n",
    "    '''\n",
    "    x (*) h = y, (*) -> 卷积\n",
    "    y_n -> 在y的基础上添加一些干扰噪声的结果\n",
    "    x_0 -> 求解x的初始值\n",
    "    '''\n",
    "    def convolve_func(h):\n",
    "        '''\n",
    "        计算 y_n - x (*) h 的 power(功率)\n",
    "        fmin 将通过计算使得此power最小\n",
    "        '''\n",
    "        return np.sum((y_n - np.convolve(x, h)) ** 2)\n",
    "    # 调用fmin函数，以 x_0 为初始值\n",
    "    h_0 = fminfunc(convolve_func, x_0)\n",
    "    \n",
    "    print(fminfunc.__name__)\n",
    "    print('----------------')\n",
    "    # 输出 x (*) h_0 和 y 之间 的相对误差\n",
    "    print('x (*) h_0 和 y 之间 的相对误差(error of y):', np.sum((np.convolve(x, h_0) - y) ** 2) / np.sum(y ** 2))\n",
    "    # 输出 h_0 和 h 之间的相对误差\n",
    "    print('h_0 和 h 之间的相对误差(error of h):', np.sum((h_0 -h) ** 2) / np.sum(h ** 2))\n",
    "    print('=================')\n",
    "def test_n(m, n, nscale):\n",
    "    '''\n",
    "    随机产生x, h, y, y_n, x_0等数列，调用各种fmin函数求解b\n",
    "    m 为 x 的长度，n 为 h 的长度， nscale为干扰的强度\n",
    "    '''\n",
    "    x = np.random.rand(m)\n",
    "    h = np.random.rand(n)\n",
    "    y = np.convolve(x, h)\n",
    "    y_n = y + np.random.rand(len(y)) * nscale\n",
    "    x_0 = np.random.rand(n)\n",
    "    \n",
    "    # optimize库提供了几个求函数最小值的算法\n",
    "    test_fmin_convolve(opt.fmin, x, h, y, y_n, x_0)\n",
    "    test_fmin_convolve(opt.fmin_powell, x, h, y, y_n, x_0)\n",
    "    test_fmin_convolve(opt.fmin_cg, x, h, y, y_n, x_0)\n",
    "    test_fmin_convolve(opt.fmin_bfgs, x, h, y, y_n, x_0)\n",
    "\n",
    "if __name__ == '__main__':\n",
    "    test_n(200, 20, 0.1)"
   ]
  },
  {
   "cell_type": "code",
   "execution_count": null,
   "metadata": {
    "collapsed": true
   },
   "outputs": [],
   "source": []
  }
 ],
 "metadata": {
  "kernelspec": {
   "display_name": "Python 3",
   "language": "python",
   "name": "python3"
  },
  "language_info": {
   "codemirror_mode": {
    "name": "ipython",
    "version": 3
   },
   "file_extension": ".py",
   "mimetype": "text/x-python",
   "name": "python",
   "nbconvert_exporter": "python",
   "pygments_lexer": "ipython3",
   "version": "3.6.1"
  }
 },
 "nbformat": 4,
 "nbformat_minor": 2
}
