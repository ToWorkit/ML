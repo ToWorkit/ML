{
 "cells": [
  {
   "cell_type": "code",
   "execution_count": 1,
   "metadata": {
    "collapsed": true
   },
   "outputs": [],
   "source": [
    "# SymPy是Python的数学符号计算库，用它可以进行数学公式的符号推导\n",
    "from sympy import *"
   ]
  },
  {
   "cell_type": "code",
   "execution_count": 3,
   "metadata": {},
   "outputs": [
    {
     "name": "stdout",
     "output_type": "stream",
     "text": [
      "0\n"
     ]
    }
   ],
   "source": [
    "# http://old.sebug.net/paper/books/scipydoc/sympy_intro.html\n",
    "# e ** i * pi + 1 = 0\n",
    "# 欧拉恒等式，其中e是自然指数的底，i是虚数单位， \\pi 是圆周率。\n",
    "# 此公式被誉为数学最奇妙的公式，它将5个基本数学常数用加法、乘法和幂运算联系起来\n",
    "\n",
    "# 使用SymPy验证\n",
    "# E -> 自然指数的底，I -> 虚数单位，pi -> 圆周率\n",
    "print(E ** (I * pi) + 1)"
   ]
  },
  {
   "cell_type": "code",
   "execution_count": 4,
   "metadata": {},
   "outputs": [
    {
     "name": "stdout",
     "output_type": "stream",
     "text": [
      "exp(I*x)\n"
     ]
    }
   ],
   "source": [
    "# 欧拉恒等式使用公式进行计算\n",
    "# http://old.sebug.net/paper/books/scipydoc/sympy_intro.html\n",
    "# e ** i * pi = cos(x) + i * sin(x)\n",
    "\n",
    "# 引入变量x，在SymPy中，数学符号是Symbol类的对象，因此必须先创建之后才能使用\n",
    "x = Symbol('x')\n",
    "# expand函数可以将公式展开，展开E**(I*pi)：\n",
    "print(expand(E ** (I * x)))"
   ]
  },
  {
   "cell_type": "code",
   "execution_count": null,
   "metadata": {
    "collapsed": true
   },
   "outputs": [],
   "source": []
  }
 ],
 "metadata": {
  "kernelspec": {
   "display_name": "Python 3",
   "language": "python",
   "name": "python3"
  },
  "language_info": {
   "codemirror_mode": {
    "name": "ipython",
    "version": 3
   },
   "file_extension": ".py",
   "mimetype": "text/x-python",
   "name": "python",
   "nbconvert_exporter": "python",
   "pygments_lexer": "ipython3",
   "version": "3.6.1"
  }
 },
 "nbformat": 4,
 "nbformat_minor": 2
}
