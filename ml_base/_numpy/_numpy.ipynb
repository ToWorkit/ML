{
 "cells": [
  {
   "cell_type": "code",
   "execution_count": 2,
   "metadata": {},
   "outputs": [],
   "source": [
    "import numpy as np"
   ]
  },
  {
   "cell_type": "code",
   "execution_count": 17,
   "metadata": {},
   "outputs": [
    {
     "name": "stdout",
     "output_type": "stream",
     "text": [
      "[[ 0  1  2  3  4  5]\n",
      " [10 11 12 13 14 15]\n",
      " [20 21 22 23 24 25]\n",
      " [30 31 32 33 34 35]\n",
      " [40 41 42 43 44 45]\n",
      " [50 51 52 53 54 55]]\n",
      "[0 1 2 3 4 5]\n",
      "[ 0 10 20 30 40 50]\n"
     ]
    }
   ],
   "source": [
    "# range() 创建int类类 => list\n",
    "# arange() 可以使用float类型 => array\n",
    "# 0 - 60 (含头不含尾) 步长为 10  reshape -> 给予数组一个新的形状，而不改变它的数据\n",
    "a = np.arange(0, 60, 10).reshape((-1, 1)) + np.arange(6)\n",
    "print(a)\n",
    "# 下面俩和上面对比着看就明白了\n",
    "print(np.arange(6))\n",
    "print(np.arange(0, 60, 10))"
   ]
  },
  {
   "cell_type": "code",
   "execution_count": 34,
   "metadata": {},
   "outputs": [
    {
     "name": "stdout",
     "output_type": "stream",
     "text": [
      "[1 2 3]\n",
      "(3,)\n",
      "[[ 1  2]\n",
      " [ 2  3]\n",
      " [ 4  5]\n",
      " [ 6  7]\n",
      " [ 8  9]\n",
      " [10 11]]\n",
      "(6, 2)\n",
      "[[ 1  2  2  3  4  5]\n",
      " [ 6  7  8  9 10 11]]\n",
      "(2, 6)\n",
      "[[ 1  2  2  3]\n",
      " [ 4  5  6  7]\n",
      " [ 8  9 10 11]]\n",
      "int32\n",
      "[[ 2.  3.]\n",
      " [ 4.  5.]]\n",
      "[[2 3]\n",
      " [4 5]]\n"
     ]
    }
   ],
   "source": [
    "# 需要3个指针和3个整数对象，对于数值运算比较浪费内存和cpu\n",
    "L = [1, 2, 3]\n",
    "# 所以使用Numpy提供的ndarray对象 -> 存储单一数据类型的多维数组\n",
    "_L = np.array(L)\n",
    "print(_L)\n",
    "# 获取长度\n",
    "print(_L.shape)\n",
    "b = np.array([[1,2], [2,3], [4,5], [6,7], [8,9], [10, 11]])\n",
    "print(b)\n",
    "print(b.shape)\n",
    "# 可以强制性修改shape, 当某个轴为-1时，将根据数组元素的个数自动计算此轴的长度\n",
    "b.shape = 2, -1\n",
    "print(b)\n",
    "print(b.shape)\n",
    "# 使用reshape方法，可以创建改变了尺寸的新数组，原数组的shape保持不变, 并且reshape之后的数组与原数组更享内存数据(指向一致)\n",
    "c = b.reshape((3, -1))\n",
    "print(c)\n",
    "# 数据类型\n",
    "print(c.dtype)\n",
    "# 指定数据类型\n",
    "d = np.array([[2,3], [4,5]], dtype=np.float)\n",
    "print(d)\n",
    "# astype -> 数据类型转换\n",
    "nf = d.astype(np.int)\n",
    "print(nf)"
   ]
  },
  {
   "cell_type": "code",
   "execution_count": 4,
   "metadata": {},
   "outputs": [
    {
     "name": "stdout",
     "output_type": "stream",
     "text": [
      "[  1.   2.   3.   4.   5.   6.   7.   8.   9.  10.]\n",
      "[ 1.   1.9  2.8  3.7  4.6  5.5  6.4  7.3  8.2  9.1]\n"
     ]
    }
   ],
   "source": [
    "# 线性\n",
    "# linspace函数创建数组, params -> 初值， 终值，元素个数， 是否包含终值(缺省为True)\n",
    "a = np.linspace(1, 10, 10)\n",
    "print(a)\n",
    "# 不包含终值\n",
    "b = np.linspace(1, 10, 10, endpoint=False)\n",
    "print(b)"
   ]
  },
  {
   "cell_type": "code",
   "execution_count": 50,
   "metadata": {},
   "outputs": [
    {
     "name": "stdout",
     "output_type": "stream",
     "text": [
      "[  10.           13.33521432   17.7827941    23.71373706   31.6227766\n",
      "   42.16965034   56.23413252   74.98942093  100.        ]\n",
      "[    10.    100.   1000.  10000.]\n",
      "1000\n",
      "9\n",
      "[  1.00000000e+00   2.00000000e+00   4.00000000e+00   8.00000000e+00\n",
      "   1.60000000e+01   3.20000000e+01   6.40000000e+01   1.28000000e+02\n",
      "   2.56000000e+02   5.12000000e+02   1.02400000e+03]\n",
      "1\n",
      "1024\n"
     ]
    }
   ],
   "source": [
    "# 对数\n",
    "# 创建等比数列\n",
    "# 10 ** 2 10的2次方\n",
    "# 现实计算中 10^2 为10的2次方，但实际在算法中不是，上面的才是\n",
    "# 当前起始值为 10**1， 终止值为 10**2, 有9个数的等比数列, 默认包含终止值\n",
    "d = np.logspace(1, 2, 9)\n",
    "# 10**1 - 10**4 \n",
    "_d = np.logspace(1, 4, 4)\n",
    "print(d)\n",
    "print(_d)\n",
    "print(10**3)\n",
    "print(10^3)\n",
    "# 创建基础值， 默认为10\n",
    "# 2 ** 0  - 2 ** 10\n",
    "g = np.logspace(0, 10, 11, base=2)\n",
    "print(g)\n",
    "print(2**0)\n",
    "print(2**10)"
   ]
  },
  {
   "cell_type": "code",
   "execution_count": 51,
   "metadata": {},
   "outputs": [
    {
     "name": "stdout",
     "output_type": "stream",
     "text": [
      "[ 97  98  99 100]\n"
     ]
    }
   ],
   "source": [
    "# 使用frombuffer, fromstring, fromfile等函数可以从字节序列创建数组\n",
    "st = 'abcd'\n",
    "# 对应ASCALL码值\n",
    "g = np.fromstring(st, dtype=np.int8)\n",
    "print(g)"
   ]
  },
  {
   "cell_type": "code",
   "execution_count": 69,
   "metadata": {},
   "outputs": [
    {
     "name": "stdout",
     "output_type": "stream",
     "text": [
      "[0 1 2 3 4 5 6 7 8 9]\n",
      "3\n",
      "[3 4]\n",
      "[0 1 2]\n",
      "[3 4 5 6 7 8 9]\n",
      "[2 4 6]\n",
      "[9 8 7 6 5 4 3 2 1 0]\n",
      "[ 0 10 20 30  4  5  6  7  8  9]\n",
      "[  0 200  20  30   4   5   6   7   8   9]\n",
      "[200  20  30]\n"
     ]
    }
   ],
   "source": [
    "# 存取\n",
    "# 含头不含尾\n",
    "a = np.arange(10)\n",
    "print(a)\n",
    "print(a[3])\n",
    "# 切片[3:5] -> 含头不含尾，下标从第3位开始截取到第5位\n",
    "print(a[3:5])\n",
    "# 省略开始，则从0开始, 或者省略最后\n",
    "print(a[:3])\n",
    "print(a[3:])\n",
    "# 步长为2(相隔2位)\n",
    "print(a[2:8:2])\n",
    "# 头尾省略，步长为-1 -> 翻转数组\n",
    "print(a[::-1])\n",
    "# 切片的数据和原始数据指向一致，共享数据\n",
    "a[1:4] = 10, 20, 30\n",
    "print(a)\n",
    "\n",
    "b = a[1:4]\n",
    "b[0] = 200\n",
    "print(a)\n",
    "print(b)"
   ]
  },
  {
   "cell_type": "code",
   "execution_count": 72,
   "metadata": {},
   "outputs": [
    {
     "name": "stdout",
     "output_type": "stream",
     "text": [
      "[   1.    2.    4.    8.   16.   32.   64.  128.  256.  512.]\n",
      "[0 2 4 6 8]\n",
      "[   1.    4.   16.   64.  256.]\n",
      "[   1.    4.   16.  333.  256.]\n",
      "[   1.    2.    4.    8.   16.   32.   64.  128.  256.  512.]\n"
     ]
    }
   ],
   "source": [
    "# 根据整数数组存取\n",
    "# 当使用整数序列对数组元素进行存取时，将整个整数序列中的每个元素作为下标，整数序列可以是列表或者是数组\n",
    "# 使用整数序列作为下标获得的数组不和原始数组共享空间\n",
    "a = np.logspace(0, 9, 10, base=2)\n",
    "print(a)\n",
    "i = np.arange(0, 10, 2)\n",
    "print(i)\n",
    "# 利用i做下标取a的数据\n",
    "b = a[i]\n",
    "print(b)\n",
    "b[3] = 333\n",
    "print(b)\n",
    "print(a)"
   ]
  },
  {
   "cell_type": "code",
   "execution_count": 5,
   "metadata": {},
   "outputs": [
    {
     "name": "stdout",
     "output_type": "stream",
     "text": [
      "[ 0.43910249  0.48019996  0.88595946  0.55719824  0.78560203  0.65411196\n",
      "  0.37708933  0.84864324  0.08989414  0.33993053]\n",
      "[False False  True  True  True  True False  True False False]\n",
      "b = [ 0.88595946  0.55719824  0.78560203  0.65411196  0.84864324]\n",
      "[ 0.43910249  0.48019996  0.5         0.5         0.5         0.5\n",
      "  0.37708933  0.5         0.08989414  0.33993053]\n",
      "[ 0.88595946  0.55719824  0.78560203  0.65411196  0.84864324]\n"
     ]
    }
   ],
   "source": [
    "# 随机生成 10 个 0 - 1 中均匀分布的随机数 \n",
    "a = np.random.rand(10)\n",
    "print(a)\n",
    "print(a > 0.5)\n",
    "# 取出大于0.5的项\n",
    "b = a[a > 0.5]\n",
    "print('b = %s' % b)\n",
    "# 将原始数据中 大于 0.5 的数据都强制指定为 0.5\n",
    "a[a > 0.5] = 0.5\n",
    "# b 不会受影响\n",
    "print(a)\n",
    "print(b)"
   ]
  },
  {
   "cell_type": "code",
   "execution_count": 82,
   "metadata": {},
   "outputs": [
    {
     "name": "stdout",
     "output_type": "stream",
     "text": [
      "[ 0 10 20 30 40 50]\n",
      "[[ 0]\n",
      " [10]\n",
      " [20]\n",
      " [30]\n",
      " [40]\n",
      " [50]]\n",
      "[[  0  10  20  30  40  50]\n",
      " [ 10  20  30  40  50  60]\n",
      " [ 20  30  40  50  60  70]\n",
      " [ 30  40  50  60  70  80]\n",
      " [ 40  50  60  70  80  90]\n",
      " [ 50  60  70  80  90 100]]\n"
     ]
    }
   ],
   "source": [
    "# 行向量\n",
    "a = np.arange(0, 60, 10)\n",
    "print(a)\n",
    "# 转为列向量\n",
    "b = a.reshape((-1,1))\n",
    "print(b)\n",
    "# 行加列\n",
    "f = a + b\n",
    "print(f)"
   ]
  },
  {
   "cell_type": "code",
   "execution_count": 5,
   "metadata": {},
   "outputs": [
    {
     "name": "stdout",
     "output_type": "stream",
     "text": [
      "[[ 0  1  2  3  4  5]\n",
      " [10 11 12 13 14 15]\n",
      " [20 21 22 23 24 25]\n",
      " [30 31 32 33 34 35]\n",
      " [40 41 42 43 44 45]\n",
      " [50 51 52 53 54 55]]\n",
      "[ 2 13 24]\n",
      "[[ 0  2  4]\n",
      " [20 22 24]\n",
      " [40 42 44]]\n"
     ]
    }
   ],
   "source": [
    "# 合并上面的代码\n",
    "a = np.arange(0, 60, 10).reshape((-1, 1))+np.arange(6)\n",
    "print(a)\n",
    "# 二维数组切片 行 列\n",
    "# 第 0 行的第 2 个下标\n",
    "print(a[[0,1,2], [2,3,4]])\n",
    "# 行步长， 列步长\n",
    "print(a[::2, ::2])"
   ]
  },
  {
   "cell_type": "code",
   "execution_count": 12,
   "metadata": {},
   "outputs": [
    {
     "name": "stdout",
     "output_type": "stream",
     "text": [
      "[(b'LaoPo', 27,  60.90000153) (b'Me', 24,  64.09999847)]\n",
      "(b'Me', 24,  64.09999847)\n",
      "(b'Me', 24,  64.09999847)\n",
      "[(b'LaoPo', 27,  60.90000153) (b'My', 24,  64.09999847)]\n",
      "(b'My', 24,  64.09999847)\n",
      "None\n"
     ]
    }
   ],
   "source": [
    "# 定义结构数组\n",
    "personType = np.dtype({\n",
    "    'names': ['name', 'age', 'weight'],\n",
    "    # formats -> 格式\n",
    "    # str32  \n",
    "    # int32\n",
    "    # float32\n",
    "    'formats': ['S32', 'i', 'f']\n",
    "})\n",
    "a = np.array([('LaoPo', 27, 60.9), ('Me', 24, 64.1)], dtype=personType)\n",
    "# b -> byte 字节字符\n",
    "print(a)\n",
    "print(a[1])\n",
    "# 获取后数据共享\n",
    "m = a[1]\n",
    "print(m)\n",
    "m['name'] = 'My'\n",
    "print(a)\n",
    "print(m)"
   ]
  },
  {
   "cell_type": "code",
   "execution_count": null,
   "metadata": {},
   "outputs": [],
   "source": [
    "# 内存对齐\n",
    "# C语言的结构体为了内存寻址方便，会自动的添加一些填充用的字节，这叫做内存对齐。\n",
    "# 例如如果把下面的name[32]改为name[30]的话，由于内存对齐问题，在name和age中间会填补两个字节，最终的结构体大小不会改变。\n",
    "# 因此如果numpy中的所配置的内存大小不符合C语言的对齐规范的话，将会出现数据错位。\n",
    "# 为了解决这个问题，在创建dtype对象时，可以传递参数align=True，这样numpy的结构数组的内存对齐和C语言的结构体就一致了"
   ]
  }
 ],
 "metadata": {
  "kernelspec": {
   "display_name": "Python 3",
   "language": "python",
   "name": "python3"
  },
  "language_info": {
   "codemirror_mode": {
    "name": "ipython",
    "version": 3
   },
   "file_extension": ".py",
   "mimetype": "text/x-python",
   "name": "python",
   "nbconvert_exporter": "python",
   "pygments_lexer": "ipython3",
   "version": "3.6.0"
  }
 },
 "nbformat": 4,
 "nbformat_minor": 2
}
