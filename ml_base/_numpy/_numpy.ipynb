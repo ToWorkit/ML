{
 "cells": [
  {
   "cell_type": "code",
   "execution_count": 42,
   "metadata": {
    "collapsed": true
   },
   "outputs": [],
   "source": [
    "import numpy as np\n",
    "import math \n",
    "import time\n",
    "import numpy as np\n",
    "# 画图\n",
    "import matplotlib as mpl\n",
    "import matplotlib.pyplot as plt\n",
    "from mpl_toolkits.mplot3d import Axes3D\n",
    "from matplotlib import cm\n",
    "import time\n",
    "import math\n",
    "# 统计\n",
    "from scipy import stats\n",
    "import scipy.optimize as opt\n",
    "from scipy.stats import norm, poisson\n",
    "from scipy.optimize import leastsq\n",
    "# 解决中文乱码问题\n",
    "mpl.rcParams['font.sans-serif'] = [u'SimHei']\n",
    "mpl.rcParams['axes.unicode_minus'] = False"
   ]
  },
  {
   "cell_type": "code",
   "execution_count": 2,
   "metadata": {},
   "outputs": [
    {
     "name": "stdout",
     "output_type": "stream",
     "text": [
      "[[ 0  1  2  3  4  5]\n",
      " [10 11 12 13 14 15]\n",
      " [20 21 22 23 24 25]\n",
      " [30 31 32 33 34 35]\n",
      " [40 41 42 43 44 45]\n",
      " [50 51 52 53 54 55]]\n",
      "[0 1 2 3 4 5]\n",
      "[ 0 10 20 30 40 50]\n"
     ]
    }
   ],
   "source": [
    "# range() 创建int类类 => list\n",
    "# arange() 可以使用float类型 => array\n",
    "# 0 - 60 (含头不含尾) 步长为 10  reshape -> 给予数组一个新的形状，而不改变它的数据\n",
    "a = np.arange(0, 60, 10).reshape((-1, 1)) + np.arange(6)\n",
    "print(a)\n",
    "# 下面俩和上面对比着看就明白了\n",
    "print(np.arange(6))\n",
    "print(np.arange(0, 60, 10))"
   ]
  },
  {
   "cell_type": "code",
   "execution_count": 3,
   "metadata": {},
   "outputs": [
    {
     "name": "stdout",
     "output_type": "stream",
     "text": [
      "[1 2 3]\n",
      "(3,)\n",
      "[[ 1  2]\n",
      " [ 2  3]\n",
      " [ 4  5]\n",
      " [ 6  7]\n",
      " [ 8  9]\n",
      " [10 11]]\n",
      "(6, 2)\n",
      "[[ 1  2  2  3  4  5]\n",
      " [ 6  7  8  9 10 11]]\n",
      "(2, 6)\n",
      "[[ 1  2  2  3]\n",
      " [ 4  5  6  7]\n",
      " [ 8  9 10 11]]\n",
      "int32\n",
      "[[ 2.  3.]\n",
      " [ 4.  5.]]\n",
      "[[2 3]\n",
      " [4 5]]\n"
     ]
    }
   ],
   "source": [
    "# 需要3个指针和3个整数对象，对于数值运算比较浪费内存和cpu\n",
    "L = [1, 2, 3]\n",
    "# 所以使用Numpy提供的ndarray对象 -> 存储单一数据类型的多维数组\n",
    "_L = np.array(L)\n",
    "print(_L)\n",
    "# 获取长度\n",
    "print(_L.shape)\n",
    "b = np.array([[1,2], [2,3], [4,5], [6,7], [8,9], [10, 11]])\n",
    "print(b)\n",
    "print(b.shape)\n",
    "# 可以强制性修改shape, 当某个轴为-1时，将根据数组元素的个数自动计算此轴的长度\n",
    "b.shape = 2, -1\n",
    "print(b)\n",
    "print(b.shape)\n",
    "# 使用reshape方法，可以创建改变了尺寸的新数组，原数组的shape保持不变, 并且reshape之后的数组与原数组更享内存数据(指向一致)\n",
    "c = b.reshape((3, -1))\n",
    "print(c)\n",
    "# 数据类型\n",
    "print(c.dtype)\n",
    "# 指定数据类型\n",
    "d = np.array([[2,3], [4,5]], dtype=np.float)\n",
    "print(d)\n",
    "# astype -> 数据类型转换\n",
    "nf = d.astype(np.int)\n",
    "print(nf)"
   ]
  },
  {
   "cell_type": "code",
   "execution_count": 4,
   "metadata": {},
   "outputs": [
    {
     "name": "stdout",
     "output_type": "stream",
     "text": [
      "[  1.   2.   3.   4.   5.   6.   7.   8.   9.  10.]\n",
      "[ 1.   1.9  2.8  3.7  4.6  5.5  6.4  7.3  8.2  9.1]\n"
     ]
    }
   ],
   "source": [
    "# 线性\n",
    "# linspace函数创建数组, params -> 初值， 终值，元素个数， 是否包含终值(缺省为True)\n",
    "a = np.linspace(1, 10, 10)\n",
    "print(a)\n",
    "# 不包含终值\n",
    "b = np.linspace(1, 10, 10, endpoint=False)\n",
    "print(b)"
   ]
  },
  {
   "cell_type": "code",
   "execution_count": 5,
   "metadata": {},
   "outputs": [
    {
     "name": "stdout",
     "output_type": "stream",
     "text": [
      "[  10.           13.33521432   17.7827941    23.71373706   31.6227766\n",
      "   42.16965034   56.23413252   74.98942093  100.        ]\n",
      "[    10.    100.   1000.  10000.]\n",
      "1000\n",
      "9\n",
      "[  1.00000000e+00   2.00000000e+00   4.00000000e+00   8.00000000e+00\n",
      "   1.60000000e+01   3.20000000e+01   6.40000000e+01   1.28000000e+02\n",
      "   2.56000000e+02   5.12000000e+02   1.02400000e+03]\n",
      "1\n",
      "1024\n"
     ]
    }
   ],
   "source": [
    "# 对数\n",
    "# 创建等比数列\n",
    "# 10 ** 2 10的2次方\n",
    "# 现实计算中 10^2 为10的2次方，但实际在算法中不是，上面的才是\n",
    "# 当前起始值为 10**1， 终止值为 10**2, 有9个数的等比数列, 默认包含终止值\n",
    "d = np.logspace(1, 2, 9)\n",
    "# 10**1 - 10**4 \n",
    "_d = np.logspace(1, 4, 4)\n",
    "print(d)\n",
    "print(_d)\n",
    "print(10**3)\n",
    "print(10^3)\n",
    "# 创建基础值， 默认为10\n",
    "# 2 ** 0  - 2 ** 10\n",
    "g = np.logspace(0, 10, 11, base=2)\n",
    "print(g)\n",
    "print(2**0)\n",
    "print(2**10)"
   ]
  },
  {
   "cell_type": "code",
   "execution_count": 6,
   "metadata": {},
   "outputs": [
    {
     "name": "stdout",
     "output_type": "stream",
     "text": [
      "[ 97  98  99 100]\n"
     ]
    }
   ],
   "source": [
    "# 使用frombuffer, fromstring, fromfile等函数可以从字节序列创建数组\n",
    "st = 'abcd'\n",
    "# 对应ASCALL码值\n",
    "g = np.fromstring(st, dtype=np.int8)\n",
    "print(g)"
   ]
  },
  {
   "cell_type": "code",
   "execution_count": 7,
   "metadata": {},
   "outputs": [
    {
     "name": "stdout",
     "output_type": "stream",
     "text": [
      "[0 1 2 3 4 5 6 7 8 9]\n",
      "3\n",
      "[3 4]\n",
      "[0 1 2]\n",
      "[3 4 5 6 7 8 9]\n",
      "[2 4 6]\n",
      "[9 8 7 6 5 4 3 2 1 0]\n",
      "[ 0 10 20 30  4  5  6  7  8  9]\n",
      "[  0 200  20  30   4   5   6   7   8   9]\n",
      "[200  20  30]\n"
     ]
    }
   ],
   "source": [
    "# 存取\n",
    "# 含头不含尾\n",
    "a = np.arange(10)\n",
    "print(a)\n",
    "print(a[3])\n",
    "# 切片[3:5] -> 含头不含尾，下标从第3位开始截取到第5位\n",
    "print(a[3:5])\n",
    "# 省略开始，则从0开始, 或者省略最后\n",
    "print(a[:3])\n",
    "print(a[3:])\n",
    "# 步长为2(相隔2位)\n",
    "print(a[2:8:2])\n",
    "# 头尾省略，步长为-1 -> 翻转数组\n",
    "print(a[::-1])\n",
    "# 切片的数据和原始数据指向一致，共享数据\n",
    "a[1:4] = 10, 20, 30\n",
    "print(a)\n",
    "\n",
    "b = a[1:4]\n",
    "b[0] = 200\n",
    "print(a)\n",
    "print(b)"
   ]
  },
  {
   "cell_type": "code",
   "execution_count": 8,
   "metadata": {},
   "outputs": [
    {
     "name": "stdout",
     "output_type": "stream",
     "text": [
      "[   1.    2.    4.    8.   16.   32.   64.  128.  256.  512.]\n",
      "[0 2 4 6 8]\n",
      "[   1.    4.   16.   64.  256.]\n",
      "[   1.    4.   16.  333.  256.]\n",
      "[   1.    2.    4.    8.   16.   32.   64.  128.  256.  512.]\n"
     ]
    }
   ],
   "source": [
    "# 根据整数数组存取\n",
    "# 当使用整数序列对数组元素进行存取时，将整个整数序列中的每个元素作为下标，整数序列可以是列表或者是数组\n",
    "# 使用整数序列作为下标获得的数组不和原始数组共享空间\n",
    "a = np.logspace(0, 9, 10, base=2)\n",
    "print(a)\n",
    "i = np.arange(0, 10, 2)\n",
    "print(i)\n",
    "# 利用i做下标取a的数据\n",
    "b = a[i]\n",
    "print(b)\n",
    "b[3] = 333\n",
    "print(b)\n",
    "print(a)"
   ]
  },
  {
   "cell_type": "code",
   "execution_count": 9,
   "metadata": {},
   "outputs": [
    {
     "name": "stdout",
     "output_type": "stream",
     "text": [
      "[ 0.30476884  0.59905442  0.08485117  0.01907745  0.0139268   0.14922922\n",
      "  0.26779415  0.87507077  0.41589546  0.63105229]\n",
      "[False  True False False False False False  True False  True]\n",
      "b = [ 0.59905442  0.87507077  0.63105229]\n",
      "[ 0.30476884  0.5         0.08485117  0.01907745  0.0139268   0.14922922\n",
      "  0.26779415  0.5         0.41589546  0.5       ]\n",
      "[ 0.59905442  0.87507077  0.63105229]\n"
     ]
    }
   ],
   "source": [
    "# 随机生成 10 个 0 - 1 中均匀分布的随机数 \n",
    "a = np.random.rand(10)\n",
    "print(a)\n",
    "print(a > 0.5)\n",
    "# 取出大于0.5的项\n",
    "b = a[a > 0.5]\n",
    "print('b = %s' % b)\n",
    "# 将原始数据中 大于 0.5 的数据都强制指定为 0.5\n",
    "a[a > 0.5] = 0.5\n",
    "# b 不会受影响\n",
    "print(a)\n",
    "print(b)"
   ]
  },
  {
   "cell_type": "code",
   "execution_count": 10,
   "metadata": {},
   "outputs": [
    {
     "name": "stdout",
     "output_type": "stream",
     "text": [
      "[ 0 10 20 30 40 50]\n",
      "[[ 0]\n",
      " [10]\n",
      " [20]\n",
      " [30]\n",
      " [40]\n",
      " [50]]\n",
      "[[  0  10  20  30  40  50]\n",
      " [ 10  20  30  40  50  60]\n",
      " [ 20  30  40  50  60  70]\n",
      " [ 30  40  50  60  70  80]\n",
      " [ 40  50  60  70  80  90]\n",
      " [ 50  60  70  80  90 100]]\n"
     ]
    }
   ],
   "source": [
    "# 行向量\n",
    "a = np.arange(0, 60, 10)\n",
    "print(a)\n",
    "# 转为列向量\n",
    "b = a.reshape((-1,1))\n",
    "print(b)\n",
    "# 行加列\n",
    "f = a + b\n",
    "print(f)"
   ]
  },
  {
   "cell_type": "code",
   "execution_count": 11,
   "metadata": {},
   "outputs": [
    {
     "name": "stdout",
     "output_type": "stream",
     "text": [
      "[[ 0  1  2  3  4  5]\n",
      " [10 11 12 13 14 15]\n",
      " [20 21 22 23 24 25]\n",
      " [30 31 32 33 34 35]\n",
      " [40 41 42 43 44 45]\n",
      " [50 51 52 53 54 55]]\n",
      "[ 2 13 24]\n",
      "[[ 0  2  4]\n",
      " [20 22 24]\n",
      " [40 42 44]]\n"
     ]
    }
   ],
   "source": [
    "# 合并上面的代码\n",
    "a = np.arange(0, 60, 10).reshape((-1, 1))+np.arange(6)\n",
    "print(a)\n",
    "# 二维数组切片 行 列\n",
    "# 第 0 行的第 2 个下标\n",
    "print(a[[0,1,2], [2,3,4]])\n",
    "# 行步长， 列步长\n",
    "print(a[::2, ::2])"
   ]
  },
  {
   "cell_type": "code",
   "execution_count": 12,
   "metadata": {},
   "outputs": [
    {
     "name": "stdout",
     "output_type": "stream",
     "text": [
      "[(b'LaoPo', 27,  60.90000153) (b'Me', 24,  64.09999847)]\n",
      "(b'Me', 24,  64.09999847)\n",
      "(b'Me', 24,  64.09999847)\n",
      "[(b'LaoPo', 27,  60.90000153) (b'My', 24,  64.09999847)]\n",
      "(b'My', 24,  64.09999847)\n"
     ]
    }
   ],
   "source": [
    "# 定义结构数组\n",
    "personType = np.dtype({\n",
    "    'names': ['name', 'age', 'weight'],\n",
    "    # formats -> 格式\n",
    "    # str32  \n",
    "    # int32\n",
    "    # float32\n",
    "    'formats': ['S32', 'i', 'f']\n",
    "})\n",
    "a = np.array([('LaoPo', 27, 60.9), ('Me', 24, 64.1)], dtype=personType)\n",
    "# b -> byte 字节字符\n",
    "print(a)\n",
    "print(a[1])\n",
    "# 获取后数据共享\n",
    "m = a[1]\n",
    "print(m)\n",
    "m['name'] = 'My'\n",
    "print(a)\n",
    "print(m)"
   ]
  },
  {
   "cell_type": "code",
   "execution_count": 13,
   "metadata": {
    "collapsed": true
   },
   "outputs": [],
   "source": [
    "# 内存对齐\n",
    "# C语言的结构体为了内存寻址方便，会自动的添加一些填充用的字节，这叫做内存对齐。\n",
    "# 例如如果把下面的name[32]改为name[30]的话，由于内存对齐问题，在name和age中间会填补两个字节，最终的结构体大小不会改变。\n",
    "# 因此如果numpy中的所配置的内存大小不符合C语言的对齐规范的话，将会出现数据错位。\n",
    "# 为了解决这个问题，在创建dtype对象时，可以传递参数align=True，这样numpy的结构数组的内存对齐和C语言的结构体就一致了"
   ]
  },
  {
   "cell_type": "code",
   "execution_count": 15,
   "metadata": {},
   "outputs": [
    {
     "name": "stdout",
     "output_type": "stream",
     "text": [
      "[[ 0.  1.  2.]\n",
      " [ 3.  4.  5.]\n",
      " [ 6.  7.  8.]]\n",
      "[[ 0.  2.]\n",
      " [ 6.  8.]]\n"
     ]
    }
   ],
   "source": [
    "a = np.array([[0,1,2], [3,4,5], [6,7,8]], dtype=np.float32)\n",
    "print(a)\n",
    "# 取\n",
    "# 行步长， 列步长\n",
    "b = a[::2, ::2]\n",
    "print(b)"
   ]
  },
  {
   "cell_type": "code",
   "execution_count": 16,
   "metadata": {},
   "outputs": [
    {
     "name": "stdout",
     "output_type": "stream",
     "text": [
      "[ 0.    1.25  2.5   3.75  5.  ]\n",
      "[ 0.          0.94898462  0.59847214 -0.57156132 -0.95892427]\n"
     ]
    }
   ],
   "source": [
    "# linspace函数创建数组, params -> 初值， 终值，元素个数， 是否包含终值(缺省为True)\n",
    "x = np.linspace(0, 5, 5)\n",
    "print(x)\n",
    "# ufunc函数 -> universal function\n",
    "# 基于c实现，速度快\n",
    "# 对数组中的每个元素进行正弦计算\n",
    "y = np.sin(x)\n",
    "print(y)"
   ]
  },
  {
   "cell_type": "code",
   "execution_count": 17,
   "metadata": {},
   "outputs": [
    {
     "name": "stdout",
     "output_type": "stream",
     "text": [
      "math.sin => 0.3454618664140218\n",
      "np.sin => 0.009354176535607162\n"
     ]
    }
   ],
   "source": [
    "# 对比numpy.math和python标准库的math.sin计算速度\n",
    "x = [i * 0.001 for i in range(1000000)]\n",
    "start = time.clock()\n",
    "# enumerate -> 枚举\n",
    "# 遍历\n",
    "for i, t in enumerate(x):\n",
    "    x[i] = math.sin(t)\n",
    "print('math.sin => %s' % (float(time.clock()) - float(start)))\n",
    "\n",
    "x = np.array(x)\n",
    "start = time.clock()\n",
    "np.sin(x)\n",
    "print('np.sin => %s' % (float(time.clock()) - float(start)))"
   ]
  },
  {
   "cell_type": "code",
   "execution_count": 18,
   "metadata": {},
   "outputs": [
    {
     "name": "stdout",
     "output_type": "stream",
     "text": [
      "[0 1 2 3]\n",
      "[3 4 5 6]\n",
      "[3 5 7 9]\n"
     ]
    }
   ],
   "source": [
    "a = np.arange(0, 4)\n",
    "print(a)\n",
    "b = np.arange(3, 7)\n",
    "print(b)\n",
    "# 对应元素的和\n",
    "c = np.add(a, b)\n",
    "print(c)"
   ]
  },
  {
   "cell_type": "code",
   "execution_count": 19,
   "metadata": {},
   "outputs": [
    {
     "data": {
      "text/plain": [
       "'\\ny = x1 + x2:\\tadd(x1, x2 [, y])\\ny = x1 - x2:\\tsubtract(x1, x2 [, y])\\ny = x1 * x2:\\tmultiply (x1, x2 [, y])\\ny = x1 / x2:\\tdivide (x1, x2 [, y]), 如果两个数组的元素为整数，那么用整数除法\\ny = x1 / x2:\\ttrue divide (x1, x2 [, y]), 总是返回精确的商\\ny = x1 // x2:\\tfloor divide (x1, x2 [, y]), 总是对返回值取整\\ny = -x:\\tnegative(x [,y])\\ny = x1**x2:\\tpower(x1, x2 [, y])\\ny = x1 % x2:\\tremainder(x1, x2 [, y]), mod(x1, x2, [, y])\\n'"
      ]
     },
     "execution_count": 19,
     "metadata": {},
     "output_type": "execute_result"
    }
   ],
   "source": [
    "'''\n",
    "y = x1 + x2:\tadd(x1, x2 [, y])\n",
    "y = x1 - x2:\tsubtract(x1, x2 [, y])\n",
    "y = x1 * x2:\tmultiply (x1, x2 [, y])\n",
    "y = x1 / x2:\tdivide (x1, x2 [, y]), 如果两个数组的元素为整数，那么用整数除法\n",
    "y = x1 / x2:\ttrue divide (x1, x2 [, y]), 总是返回精确的商\n",
    "y = x1 // x2:\tfloor divide (x1, x2 [, y]), 总是对返回值取整\n",
    "y = -x:\tnegative(x [,y])\n",
    "y = x1**x2:\tpower(x1, x2 [, y])\n",
    "y = x1 % x2:\tremainder(x1, x2 [, y]), mod(x1, x2, [, y])\n",
    "'''"
   ]
  },
  {
   "cell_type": "code",
   "execution_count": 20,
   "metadata": {
    "collapsed": true
   },
   "outputs": [],
   "source": [
    "# 广播\n",
    "# 当我们使用ufunc函数对两个数组进行计算时，ufunc函数会对这两个数组的对应元素进行计算，因此它要求这两个数组有相同的大小(shape相同)。如果两个数组的shape不同的话，会进行如下的广播(broadcasting)处理：\n",
    "# 让所有输入数组都向其中shape最长的数组看齐，shape中不足的部分都通过在前面加1补齐\n",
    "# 输出数组的shape是输入数组shape的各个轴上的最大值\n",
    "# 如果输入数组的某个轴和输出数组的对应轴的长度相同或者其长度为1时，这个数组能够用来计算，否则出错\n",
    "# 当输入数组的某个轴的长度为1时，沿着此轴运算时都用此轴上的第一组值"
   ]
  },
  {
   "cell_type": "code",
   "execution_count": 33,
   "metadata": {},
   "outputs": [
    {
     "name": "stdout",
     "output_type": "stream",
     "text": [
      "[3 3 3 ..., 6 6 6]\n"
     ]
    }
   ],
   "source": [
    "# # 列\n",
    "# a = a.repeat(5, axis=1)\n",
    "# print(a)\n",
    "# 行\n",
    "b = b.repeat(6, axis=0)\n",
    "print(b)"
   ]
  },
  {
   "cell_type": "code",
   "execution_count": 34,
   "metadata": {},
   "outputs": [
    {
     "name": "stdout",
     "output_type": "stream",
     "text": [
      "[[0]\n",
      " [1]\n",
      " [2]\n",
      " [3]\n",
      " [4]]\n",
      "[[0 1 2 3 4]]\n",
      "[[ 0.        ]\n",
      " [ 0.33333333]\n",
      " [ 0.66666667]\n",
      " [ 1.        ]]\n",
      "[[ 0.   0.5  1. ]]\n"
     ]
    }
   ],
   "source": [
    "# ogrid -> 像一个多维数组一样，用切片组元作为下标进行存取，返回的是一组可以用来广播计算的数组\n",
    "# 开始值:结束值:步长，和np.arange(开始值, 结束值, 步长)类似\n",
    "x, y = np.ogrid[0:5, 0:5]\n",
    "print(x)\n",
    "print(y)\n",
    "# 开始值:结束值:长度j，当第三个参数为虚数时，它表示返回的数组的长度，和np.linspace(开始值, 结束值, 长度)类似\n",
    "a, b = np.ogrid[0:1:4j, 0:1:3j]\n",
    "print(a)\n",
    "print(b)"
   ]
  },
  {
   "cell_type": "code",
   "execution_count": 37,
   "metadata": {},
   "outputs": [
    {
     "name": "stdout",
     "output_type": "stream",
     "text": [
      "[5 7 9]\n",
      "[ 6 15]\n"
     ]
    }
   ],
   "source": [
    "# 行 axis = 0\n",
    "print(np.add.reduce([[1,2,3], [4,5,6]]))\n",
    "# 列\n",
    "print(np.add.reduce([[1,2,3], [4,5,6]], axis=1))"
   ]
  },
  {
   "cell_type": "code",
   "execution_count": 38,
   "metadata": {},
   "outputs": [
    {
     "name": "stdout",
     "output_type": "stream",
     "text": [
      "[[ 0  1  2  3  4]\n",
      " [10 11 12 13 14]\n",
      " [20 21 22 23 24]\n",
      " [30 31 32 33 34]\n",
      " [40 41 42 43 44]\n",
      " [50 51 52 53 54]]\n",
      "[ 2 13 24]\n",
      "[42 43 44]\n",
      "[[42 43 44]\n",
      " [52 53 54]]\n",
      "[[ 0  1  2  3  4]\n",
      " [10 11 12 13 14]\n",
      " [30 31 32 33 34]]\n",
      "[ 3 13 33]\n"
     ]
    }
   ],
   "source": [
    "a = np.arange(0, 60, 10).reshape((-1, 1)) + np.arange(5)\n",
    "print(a)\n",
    "# 二维数组切片\n",
    "# 第 0 行 第 2 位下标\n",
    "print(a[[0, 1, 2], [2, 3, 4]])\n",
    "# 第 4 行 的 2，3, 4下标\n",
    "print(a[4, [2, 3, 4]])\n",
    "# 从第 4 行开始后面的都要\n",
    "print(a[4:, [2, 3, 4]])\n",
    "\n",
    "# 布尔值索引\n",
    "i = np.array([True, True, False, True, False, False])\n",
    "print(a[i])\n",
    "# 取所有行的第 3 个下标\n",
    "print(a[i, 3])"
   ]
  },
  {
   "cell_type": "code",
   "execution_count": 39,
   "metadata": {},
   "outputs": [
    {
     "name": "stdout",
     "output_type": "stream",
     "text": [
      "[[1 2]\n",
      " [3 4]\n",
      " [5 6]]\n",
      "[[1 2]\n",
      " [2 3]\n",
      " [1 2]\n",
      " [3 4]]\n",
      "去重: [[1 2]\n",
      " [3 4]\n",
      " [2 3]] \n",
      "\n"
     ]
    }
   ],
   "source": [
    "# 元素去重\n",
    "a = np.array((1, 1, 2, 1, 1, 3, 4, 5, 6, 4, 3, 2))\n",
    "print(np.unique(a).reshape(3,-1))\n",
    "# 二维数组去重\n",
    "b = np.array(((1, 2), (2, 3), (1, 2), (3,4)))\n",
    "print(b)\n",
    "# 先取出放入元组中，然后就可以在放入set集合中，然后利用集合的特性去重\n",
    "print('去重: %s \\n' % np.array(list(set([tuple(t) for t in b]))))"
   ]
  },
  {
   "cell_type": "code",
   "execution_count": 40,
   "metadata": {},
   "outputs": [
    {
     "name": "stdout",
     "output_type": "stream",
     "text": [
      "[[1 2 3]\n",
      " [4 5 6]\n",
      " [7 8 9]]\n",
      "[[11 12 13]\n",
      " [14 15 16]\n",
      " [17 18 19]]\n",
      "-----------------------\n",
      "[[ 90  96 102]\n",
      " [216 231 246]\n",
      " [342 366 390]]\n",
      "------------------------\n",
      "[[ 11  24  39]\n",
      " [ 56  75  96]\n",
      " [119 144 171]]\n",
      "[[ 11  24  39]\n",
      " [ 56  75  96]\n",
      " [119 144 171]]\n"
     ]
    }
   ],
   "source": [
    "# 矩阵相乘\n",
    "a = np.arange(1, 10) .reshape(3, 3)\n",
    "print(a)\n",
    "b = a + 10\n",
    "print(b)\n",
    "print('-----------------------')\n",
    "# a 的第一行 乘以 b 的第一列 再求和\n",
    "print(np.dot(a, b))\n",
    "# 对应位置相乘\n",
    "print('------------------------')\n",
    "print(a * b)\n",
    "print(np.multiply(a, b))"
   ]
  },
  {
   "cell_type": "code",
   "execution_count": 41,
   "metadata": {},
   "outputs": [
    {
     "name": "stdout",
     "output_type": "stream",
     "text": [
      "[ 1  2  3  4  5  6  7  8  9 20 21 22 23 24 25 26 27 28 29]\n"
     ]
    }
   ],
   "source": [
    "# 拼接\n",
    "a = np.arange(1, 10)\n",
    "b = np.arange(20, 30)\n",
    "print(np.concatenate((a, b)))"
   ]
  },
  {
   "cell_type": "code",
   "execution_count": 43,
   "metadata": {},
   "outputs": [
    {
     "data": {
      "image/png": "[encoded data removed]",
      "text/plain": [
       "<matplotlib.figure.Figure at 0x278e6c364e0>"
      ]
     },
     "metadata": {},
     "output_type": "display_data"
    }
   ],
   "source": [
    "# 胸线图\n",
    "x = np.arange(1, 0, -0.001)\n",
    "# log -> 对数\n",
    "# exp -> 指数\n",
    "y = (-3 * x * np.log(x) + np.exp(-(40 * (x - 1 / np.e)) ** 4) / 25) / 2\n",
    "# 设置尺寸和背景\n",
    "plt.figure(figsize=(5, 7), facecolor='w')\n",
    "plt.plot(y, x, 'r-', linewidth=2)\n",
    "# 网格\n",
    "plt.grid(True)\n",
    "plt.title(u'胸形线', fontsize=16)\n",
    "plt.show()"
   ]
  },
  {
   "cell_type": "code",
   "execution_count": 44,
   "metadata": {},
   "outputs": [
    {
     "data": {
      "image/png": "[encoded data removed]",
      "text/plain": [
       "<matplotlib.figure.Figure at 0x278e6c5cbe0>"
      ]
     },
     "metadata": {},
     "output_type": "display_data"
    }
   ],
   "source": [
    "# 心形图\n",
    "t = np.linspace(0, 2 * np.pi, 100)\n",
    "x = 16 * np.sin(t) ** 3\n",
    "y = 13 * np.cos(t) - 5 * np.cos(2 * t) - 2 * np.cos(3 * t) - np.cos(4 * t)\n",
    "plt.plot(x, y, 'r-', linewidth=2)\n",
    "# plt.plot(x, 'r--', linewidth=3)\n",
    "# plt.plot(y, 'r.', linewidth=3)\n",
    "plt.grid(True)\n",
    "plt.show()"
   ]
  },
  {
   "cell_type": "code",
   "execution_count": 45,
   "metadata": {},
   "outputs": [
    {
     "data": {
      "image/png": "[encoded data removed]",
      "text/plain": [
       "<matplotlib.figure.Figure at 0x278e8dc5160>"
      ]
     },
     "metadata": {},
     "output_type": "display_data"
    }
   ],
   "source": [
    "# 渐开线\n",
    "t = np.linspace(0, 50, 1000)\n",
    "x = t * np.sin(t) + np.cos(t)\n",
    "y = np.sin(t) - t * np.cos(t)\n",
    "plt.plot(x, y, 'r-', linewidth=2)\n",
    "plt.grid()\n",
    "plt.show()"
   ]
  },
  {
   "cell_type": "code",
   "execution_count": 46,
   "metadata": {},
   "outputs": [
    {
     "data": {
      "image/png": "[encoded data removed]",
      "text/plain": [
       "<matplotlib.figure.Figure at 0x278e8dd60f0>"
      ]
     },
     "metadata": {},
     "output_type": "display_data"
    }
   ],
   "source": [
    "# Bar\n",
    "x = np.arange(0, 10, 0.1)\n",
    "y = np.sin(x)\n",
    "plt.bar(x, y, width=0.04, linewidth=0.2)\n",
    "plt.plot(x, y, 'r--', linewidth=2)\n",
    "plt.title(u'Sin曲线')\n",
    "plt.xticks(rotation = -60)\n",
    "# 坐标\n",
    "plt.xlabel('X')\n",
    "plt.ylabel('Y')\n",
    "# 格子\n",
    "plt.grid()\n",
    "plt.show()"
   ]
  },
  {
   "cell_type": "code",
   "execution_count": 48,
   "metadata": {},
   "outputs": [
    {
     "data": {
      "image/png": "[encoded data removed]",
      "text/plain": [
       "<matplotlib.figure.Figure at 0x278e8f48f98>"
      ]
     },
     "metadata": {},
     "output_type": "display_data"
    }
   ],
   "source": [
    "# 概率分布\n",
    "# 10000 个 样本，包含 0 不包含 1\n",
    "x = np.random.rand(10000)\n",
    "t = np.arange(len(x))\n",
    "# 直方图  30份 0.5的透明度\n",
    "# plt.hist(x, 30, color='m', alpha=0.5, label=u'均匀分布')\n",
    "# plt.plot(t, x, 'r-', label=u'均匀分布')\n",
    "plt.plot(t, x, 'b.', label=u'均匀分布')\n",
    "plt.legend(loc='upper left')\n",
    "plt.grid()\n",
    "plt.show()"
   ]
  },
  {
   "cell_type": "code",
   "execution_count": 49,
   "metadata": {},
   "outputs": [
    {
     "data": {
      "image/png": "[encoded data removed]",
      "text/plain": [
       "<matplotlib.figure.Figure at 0x278e6080b38>"
      ]
     },
     "metadata": {},
     "output_type": "display_data"
    }
   ],
   "source": [
    "# 验证中心极限定理 -> 高斯函数图像\n",
    "t = 1000\n",
    "# 全零矩阵\n",
    "a = np.zeros(10000)\n",
    "for i in range(t):\n",
    "    # 从 -5 到 5 做均匀分布\n",
    "    a += np.random.uniform(-5, 5, 10000)\n",
    "a /= t    \n",
    "plt.hist(a, bins=30, color='g', alpha=0.5, normed=True, label=u'均匀分布叠加')\n",
    "# 标签放在左上方\n",
    "plt.legend(loc='upper left')\n",
    "plt.grid()\n",
    "plt.show()"
   ]
  },
  {
   "cell_type": "code",
   "execution_count": 50,
   "metadata": {},
   "outputs": [
    {
     "data": {
      "image/png": "[encoded data removed]",
      "text/plain": [
       "<matplotlib.figure.Figure at 0x278e8d7e198>"
      ]
     },
     "metadata": {},
     "output_type": "display_data"
    }
   ],
   "source": [
    "# 其他分布的中心极限定理\n",
    "lamda = 10\n",
    "# 模型\n",
    "p = stats.poisson(lamda)\n",
    "# 离散随机值采样 -> 满足lamda = 10\n",
    "y = p.rvs(size = 1000)\n",
    "mx = 30\n",
    "r = (0, mx)\n",
    "bins = r[1] - r[0]\n",
    "plt.figure(figsize=(10, 8), facecolor='w')\n",
    "# 1 行 2 列 现在画第 1 个图\n",
    "plt.subplot(121)\n",
    "# range -> 范围\n",
    "# 采样的得到的质量函数\n",
    "plt.hist(y, bins=bins, range=r, color='g', alpha=0.8, normed=True)\n",
    "t = np.arange(0, mx + 1)\n",
    "# pmf -> 概率质量函数\n",
    "plt.plot(t, p.pmf(t), 'ro-', lw=2)\n",
    "plt.grid(True)\n",
    "plt.show()"
   ]
  },
  {
   "cell_type": "code",
   "execution_count": 51,
   "metadata": {},
   "outputs": [
    {
     "name": "stdout",
     "output_type": "stream",
     "text": [
      "[ 4  9  4 ...,  5 10  6]\n"
     ]
    },
    {
     "data": {
      "image/png": "[encoded data removed]",
      "text/plain": [
       "<matplotlib.figure.Figure at 0x278e8dc0278>"
      ]
     },
     "metadata": {},
     "output_type": "display_data"
    },
    {
     "name": "stdout",
     "output_type": "stream",
     "text": [
      "(array([ 0.00730073,  0.03290329,  0.08060806,  0.13831383,  0.17751775,\n",
      "        0.17491749,  0.14791479,  0.10611061,  0.0650065 ,  0.03680368,\n",
      "        0.01770177,  0.00820082,  0.00480048,  0.0010001 ,  0.00090009]), array([  0.,   1.,   2.,   3.,   4.,   5.,   6.,   7.,   8.,   9.,  10.,\n",
      "        11.,  12.,  13.,  14.,  15.]), <a list of 15 Patch objects>)\n",
      "1.0\n"
     ]
    }
   ],
   "source": [
    "# Poission 分布\n",
    "x = np.random.poisson(lam=5, size=10000)\n",
    "print(x)\n",
    "pillar = 15\n",
    "a = plt.hist(x, bins=pillar, normed=True, range=[0, pillar], color='g', alpha=0.5)\n",
    "plt.grid()\n",
    "plt.show()\n",
    "print(a)\n",
    "# 求和\n",
    "print(a[0].sum())"
   ]
  },
  {
   "cell_type": "code",
   "execution_count": 52,
   "metadata": {},
   "outputs": [
    {
     "data": {
      "image/png": "[encoded data removed]",
      "text/plain": [
       "<matplotlib.figure.Figure at 0x278e8d92518>"
      ]
     },
     "metadata": {},
     "output_type": "display_data"
    }
   ],
   "source": [
    "# 绘制三维图像\n",
    "# -3 到 3 取 100个  j -> 个数\n",
    "# x => 行， y => 列\n",
    "# mgrid => 行列\n",
    "# x, y = np.ogrid[-3:3:100j, -3:3:100j]\n",
    "\n",
    "# meshgrid => 行列\n",
    "a = np.linspace(-3, 3, 101)\n",
    "# print(a)\n",
    "x, y = np.meshgrid(a, a)\n",
    "# print(x)\n",
    "# print(y)\n",
    "\n",
    "# u = np.linspace(-3, 3, 101)\n",
    "# x, y = np.meshgrid(u, u)\n",
    "# 二元正态分布\n",
    "# math.sqrt -> 平方根\n",
    "# z = np.exp(-(x ** 2 + y ** 2) / 2) / math.sqrt(2 * math.pi)\n",
    "\n",
    "z = x * y * np.exp(-(x ** 2 + y ** 2) / 2) / math.sqrt(2 * math.pi)\n",
    "\n",
    "fig = plt.figure()\n",
    "ax = fig.add_subplot(111, projection='3d')\n",
    "# ax.plot_suface(x, y, z,  cmap=cm.coolwarm, linewidth=0.1)\n",
    "# rstride -> 行，cstride -> 列， cmap -> 颜色\n",
    "ax.plot_surface(x, y, z, rstride=3, cstride=2, cmap=cm.Blues, linewidth=0.5)\n",
    "plt.show()"
   ]
  },
  {
   "cell_type": "code",
   "execution_count": 58,
   "metadata": {},
   "outputs": [
    {
     "name": "stdout",
     "output_type": "stream",
     "text": [
      "(51,)\n",
      "(51,)\n"
     ]
    },
    {
     "data": {
      "image/png": "[encoded data removed]",
      "text/plain": [
       "<matplotlib.figure.Figure at 0x278e9378cc0>"
      ]
     },
     "metadata": {},
     "output_type": "display_data"
    }
   ],
   "source": [
    "'''\n",
    "绘制正态分布概率密度函数图\n",
    "'''\n",
    "# 均值 \n",
    "mu = 0\n",
    "# 方差\n",
    "sigma = 1\n",
    "# 创建等差数列\n",
    "# 均值加减3倍的方差， 同时保证 0 可以一定被取到\n",
    "# 行向量\n",
    "x = np.linspace(mu - 3 * sigma, mu + 3 * sigma, 51)\n",
    "print(x.shape)\n",
    "# exp -> 指数\n",
    "# math.sqrt -> 根号(开方)\n",
    "# 满足均值，方差的 y\n",
    "y = np.exp(-(x - mu) ** 2 / (2* sigma ** 2)) / (math.sqrt(2 * math.pi) * sigma)\n",
    "print(y.shape)\n",
    "\n",
    "# 创建独立绘画空间\n",
    "# facecolor -> 背景取白色\n",
    "plt.figure(facecolor='w')\n",
    "# 画图\n",
    "# params -> 横坐标，纵坐标，实线，横坐标，纵坐标，圆圈，实线宽度为2，圆圈大小为8\n",
    "# plt.plot(x, y, 'r-', x, y, 'go', linewidth=2, markersize=8)\n",
    "\n",
    "# 只画线\n",
    "# ro-  -> 红色的线和圆圈\n",
    "plt.plot(x, y, 'ro-', linewidth=1)\n",
    "\n",
    "# 横纵坐标 指定 标记，字号为15\n",
    "plt.xlabel('x', fontsize=15)\n",
    "plt.ylabel('y', fontsize=15)\n",
    "# 配置中文\n",
    "plt.title(u'高斯分布函数(Gauss Distribution)', fontsize=16)\n",
    "# 边界(虚线格子)\n",
    "plt.grid(True)\n",
    "plt.show()"
   ]
  },
  {
   "cell_type": "code",
   "execution_count": 59,
   "metadata": {},
   "outputs": [
    {
     "data": {
      "image/png": "[encoded data removed]",
      "text/plain": [
       "<matplotlib.figure.Figure at 0x278e8ce5320>"
      ]
     },
     "metadata": {},
     "output_type": "display_data"
    }
   ],
   "source": [
    "'''\n",
    "损失函数: Logistic损失(-1,1) SVM  Hinge损失 0/1损失\n",
    "'''\n",
    "# 横坐标-2 到 3，取足够多float类型的值\n",
    "x = np.array(np.linspace(start=-2, stop=3, num=1001, dtype=np.float))\n",
    "# Logistic Loss\n",
    "# log -> 对数 exp -> 指数\n",
    "# 为了保证可以经过 x=0, y=1 除以 一个系数\n",
    "y_logit = np.log(1 + np.exp(-x)) / math.log(2)\n",
    "# 提升\n",
    "y_boost = np.exp(-x)\n",
    "# 负的都取 1 ， 正的都取 0 -> Ture 为 1， False 为 0\n",
    "y_01 = x < 0\n",
    "# SVM loss\n",
    "y_hinge = 1.0 - x\n",
    "# 比0小强制取为0\n",
    "y_hinge[y_hinge < 0] = 0\n",
    "# plt.figure(facecolor='w')\n",
    "# 指定尺寸\n",
    "plt.figure(figsize=(10, 8))\n",
    "plt.plot(x, y_logit, 'r-', label='Logistic Loss', linewidth=2)\n",
    "plt.plot(x, y_01, 'g-', label='0/1 Loss', linewidth=2)\n",
    "plt.plot(x, y_hinge, 'b-', label='Hinge Loss', linewidth=2)\n",
    "plt.plot(x, y_boost, 'm--', label='Adaboost Loss', linewidth=2)\n",
    "plt.grid()\n",
    "# 图线的说明(根据label)，放在右上角\n",
    "plt.legend(loc='upper right')\n",
    "# 保存一张图片\n",
    "plt.savefig('loss.png')\n",
    "plt.show()"
   ]
  },
  {
   "cell_type": "code",
   "execution_count": 53,
   "metadata": {},
   "outputs": [
    {
     "name": "stdout",
     "output_type": "stream",
     "text": [
      "[[  1.00000000e+00   0.00000000e+00  -5.55111512e-17]\n",
      " [  4.44089210e-16   1.00000000e+00   3.33066907e-16]\n",
      " [  4.44089210e-16   0.00000000e+00   1.00000000e+00]]\n",
      "[[ 0  1  2  3  4]\n",
      " [ 5  6  7  8  9]\n",
      " [10 11 12 13 14]]\n",
      "[[ 0  5 10]\n",
      " [ 1  6 11]\n",
      " [ 2  7 12]\n",
      " [ 3  8 13]\n",
      " [ 4  9 14]]\n"
     ]
    }
   ],
   "source": [
    "'''\n",
    "矩阵运算\n",
    "'''\n",
    "# 划重点 -> 不推荐在较复杂的程序中使用 matrix\n",
    "a = np.matrix([[1,2,3], [5,5,6], [7,9,9]])\n",
    "# a ** -1  -> a 的 逆矩阵\n",
    "print(a * a ** -1)\n",
    "# reshape -> 转为二维 -> 3行5列\n",
    "b = np.arange(15).reshape(3,5)\n",
    "print(b)\n",
    "# T 转置\n",
    "# 5行3列\n",
    "print(b.T)"
   ]
  },
  {
   "cell_type": "code",
   "execution_count": 54,
   "metadata": {},
   "outputs": [
    {
     "name": "stdout",
     "output_type": "stream",
     "text": [
      "[[[ 0  1]\n",
      "  [ 2  3]\n",
      "  [ 4  5]]\n",
      "\n",
      " [[ 6  7]\n",
      "  [ 8  9]\n",
      "  [10 11]]]\n",
      "---------------\n",
      "[[[12 13 14]\n",
      "  [15 16 17]]\n",
      "\n",
      " [[18 19 20]\n",
      "  [21 22 23]]]\n",
      "---------------\n",
      "[[[[ 15  16  17]\n",
      "   [ 21  22  23]]\n",
      "\n",
      "  [[ 69  74  79]\n",
      "   [ 99 104 109]]\n",
      "\n",
      "  [[123 132 141]\n",
      "   [177 186 195]]]\n",
      "\n",
      "\n",
      " [[[177 190 203]\n",
      "   [255 268 281]]\n",
      "\n",
      "  [[231 248 265]\n",
      "   [333 350 367]]\n",
      "\n",
      "  [[285 306 327]\n",
      "   [411 432 453]]]]\n"
     ]
    }
   ],
   "source": [
    "# 矩阵的乘积可以使用dot函数进行计算。\n",
    "# 对于二维数组，它计算的是矩阵乘积，对于一维数组，它计算的是其点积。\n",
    "# 将一维数组当作列矢量或者行矢量进行矩阵运算时， 使用reshape函数将一维数组转换为二维数组\n",
    "'''\n",
    "dot : 对于两个一维的数组，计算的是这两个数组对应下标元素的乘积和(数学上称之为内积)；\n",
    "      对于二维数组，计算的是两个数组的矩阵乘积；\n",
    "      对于多维数组，它的通用计算公式如下，即结果数组中的每个元素都是：数组a的最后一维上的所有元素与数组b的倒数第二位上的所有元素的乘积和\n",
    "      dot(a, b)[i,j,k,m] = sum(a[i,j,:] * b[k,:,m])\n",
    "'''\n",
    "a = np.arange(12).reshape(2,3,2)\n",
    "print(a)\n",
    "print('---------------')\n",
    "b = np.arange(12, 24).reshape(2,2,3)\n",
    "print(b)\n",
    "print('---------------')\n",
    "c = np.dot(a, b)\n",
    "print(c)"
   ]
  },
  {
   "cell_type": "code",
   "execution_count": 55,
   "metadata": {
    "collapsed": true
   },
   "outputs": [],
   "source": [
    "# inner : 和dot乘积一样，对于两个一维数组，计算的是这两个数组对应下标元素的乘积和；\n",
    "# 对于多维数组，它计算的结果数组中的每个元素都是：\n",
    "# 数组a和b的最后一维的内积，因此数组a和b的最后一维的长度必须相同\n",
    "# inner(a, b)[i,j,k,m] = sum(a[i,j,:]*b[k,m,:])"
   ]
  },
  {
   "cell_type": "code",
   "execution_count": 56,
   "metadata": {},
   "outputs": [
    {
     "name": "stdout",
     "output_type": "stream",
     "text": [
      "[[ 4  5  6  7]\n",
      " [ 8 10 12 14]\n",
      " [12 15 18 21]]\n"
     ]
    }
   ],
   "source": [
    "# outer : 只按照一维数组进行计算，如果传入参数是多维数组，则先将此数组展平为一维数组之后再进行运算。\n",
    "# outer乘积计算的列向量和行向量的矩阵乘积\n",
    "print(np.outer([1,2,3], [4,5,6,7]))"
   ]
  },
  {
   "cell_type": "code",
   "execution_count": 57,
   "metadata": {},
   "outputs": [
    {
     "name": "stdout",
     "output_type": "stream",
     "text": [
      "[[ 0.23309954  0.47421617  0.89733338  0.63047237  0.59516495  0.76702443\n",
      "   0.71893123  0.75723883  0.86272988  0.90795602]\n",
      " [ 0.4457207   0.86273461  0.20482105  0.8102345   0.75554625  0.98988014\n",
      "   0.84350736  0.08070989  0.79803608  0.94558433]\n",
      " [ 0.60321852  0.12385464  0.53583779  0.36064394  0.06891878  0.86964937\n",
      "   0.61619755  0.48329052  0.2516792   0.14147569]\n",
      " [ 0.69852358  0.57546771  0.59728982  0.95139419  0.5875354   0.71408328\n",
      "   0.4813771   0.66757434  0.05418163  0.38648622]\n",
      " [ 0.07420198  0.80097788  0.37823324  0.25230933  0.93778331  0.59075734\n",
      "   0.50456635  0.43427549  0.99798219  0.40296123]\n",
      " [ 0.92052222  0.34009635  0.03453296  0.544692    0.05861028  0.42704519\n",
      "   0.87157337  0.07087095  0.59134827  0.95244486]\n",
      " [ 0.37295527  0.09181097  0.78547887  0.99490409  0.75635013  0.58875169\n",
      "   0.70737262  0.06554678  0.45011884  0.01449733]\n",
      " [ 0.35095583  0.32017554  0.60531039  0.39665041  0.62433634  0.15713322\n",
      "   0.12362714  0.48300396  0.89725041  0.91468442]\n",
      " [ 0.78504163  0.43545577  0.26855878  0.2729506   0.83084848  0.32821163\n",
      "   0.62325367  0.70666034  0.60742857  0.76929013]\n",
      " [ 0.97177943  0.66532499  0.04589     0.55135633  0.26881833  0.99302415\n",
      "   0.6617659   0.4906972   0.41260165  0.00569211]]\n"
     ]
    }
   ],
   "source": [
    "'''\n",
    "矩阵中更高级的一些运算可以在NumPy的线性代数子库linalg中\n",
    "inv函数计算逆矩阵，solve函数可以求解多元一次方程组\n",
    "solve函数有两个参数a和b。a是一个N*N的二维数组，而b是一个长度为N的一维数组，solve函数找到一个长度为N的一维数组x，使得a和x的矩阵乘积正好等于b，数组x就是多元一次方程组的解\n",
    "'''\n",
    "# 10行10列\n",
    "a = np.random.rand(10, 10)\n",
    "print(a)"
   ]
  },
  {
   "cell_type": "code",
   "execution_count": 60,
   "metadata": {},
   "outputs": [
    {
     "name": "stdout",
     "output_type": "stream",
     "text": [
      "A\n",
      "B\n",
      "C\n",
      "D\n",
      "E\n",
      "F\n",
      "G\n",
      "H\n",
      "I\n",
      "J\n",
      "K\n",
      "L\n",
      "M\n",
      "N\n",
      "O\n",
      "P\n",
      "Q\n",
      "R\n",
      "S\n",
      "T\n",
      "U\n",
      "V\n",
      "W\n",
      "X\n",
      "Y\n",
      "Z\n"
     ]
    }
   ],
   "source": [
    "# 获取指定字符\n",
    "for i in range(65, 91):\n",
    "  # A - Z\n",
    "  print(str(chr(i)))"
   ]
  },
  {
   "cell_type": "code",
   "execution_count": 61,
   "metadata": {},
   "outputs": [
    {
     "name": "stdout",
     "output_type": "stream",
     "text": [
      "0.999986231331\n",
      "[[ 1.          0.99998623]\n",
      " [ 0.99998623  1.        ]]\n"
     ]
    }
   ],
   "source": [
    "# 相关系数矩阵\n",
    "from numpy import corrcoef, mean, std, multiply\n",
    "vc = [1,2,39,0,8]\n",
    "vb = [1,2,38,0,8]\n",
    "print(mean(multiply((vc-mean(vc)), (vb-mean(vb)))) / (std(vb) * std(vc)))\n",
    "# corrcoef 得到相关系数矩阵(向量的相似程度)\n",
    "print(corrcoef(vc, vb))"
   ]
  },
  {
   "cell_type": "code",
   "execution_count": 62,
   "metadata": {},
   "outputs": [
    {
     "name": "stdout",
     "output_type": "stream",
     "text": [
      "4.916666666666666\n",
      "4.91666666667\n",
      "[[ 1. -1.]\n",
      " [-1.  1.]]\n",
      "-1.0\n"
     ]
    }
   ],
   "source": [
    "# 协方差\n",
    "from numpy import cov, sum, multiply, mean\n",
    "b = [1,3,5,6]\n",
    "print(cov(b))\n",
    "# 推\n",
    "print(sum((multiply(b,b))-mean(b)*mean(b))/3)\n",
    "\n",
    "# cov的参数是矩阵\n",
    "# 输出结果也是矩阵\n",
    "# 输出的矩阵为协方差矩阵\n",
    "x = [[0, 1, 2],[2, 1, 0]]\n",
    "print(cov(x))\n",
    "print(sum((multiply(x[0],x[1]))-mean(x[0])*mean(x[1]))/2)"
   ]
  },
  {
   "cell_type": "code",
   "execution_count": 63,
   "metadata": {},
   "outputs": [
    {
     "name": "stdout",
     "output_type": "stream",
     "text": [
      "[[1 0 0]\n",
      " [0 2 0]\n",
      " [0 0 3]]\n"
     ]
    }
   ],
   "source": [
    "# 构建对角矩阵\n",
    "from numpy import diag\n",
    "d = [1, 2, 3]\n",
    "dd = diag(d)\n",
    "print(dd)"
   ]
  },
  {
   "cell_type": "code",
   "execution_count": 66,
   "metadata": {},
   "outputs": [
    {
     "name": "stdout",
     "output_type": "stream",
     "text": [
      "[[ 2  4  6]\n",
      " [ 8 10 12]\n",
      " [14 16 18]]\n",
      "[[19 22]\n",
      " [43 50]]\n"
     ]
    }
   ],
   "source": [
    "# 矩阵点积\n",
    "# 矩阵乘\n",
    "l = [[1,2,3], [4,5,6], [7,8,9]]\n",
    "d = np.dot(l, 2)\n",
    "print(d)\n",
    "x = np.array([[1,2], [3,4]])\n",
    "y = np.array([[5,6], [7,8]])\n",
    "print(x.dot(y))"
   ]
  },
  {
   "cell_type": "code",
   "execution_count": 69,
   "metadata": {},
   "outputs": [
    {
     "name": "stdout",
     "output_type": "stream",
     "text": [
      "[[ 5  0  0  0]\n",
      " [ 0  9  0  0]\n",
      " [ 0  0  0  0]\n",
      " [ 0  0  0 16]]\n"
     ]
    }
   ],
   "source": [
    "# 矩阵的特征值和特征向量\n",
    "from numpy import mat, linalg, transpose\n",
    "a = mat([[1,0,0,0,2], [0,0,3,0,0], [0,0,0,0,0], [0,4,0,0,0]])\n",
    "b = a * a.T\n",
    "print(b)"
   ]
  },
  {
   "cell_type": "code",
   "execution_count": 70,
   "metadata": {},
   "outputs": [
    {
     "name": "stdout",
     "output_type": "stream",
     "text": [
      "2018-01-14 23:05:46\n"
     ]
    }
   ],
   "source": [
    "# 将时间按照指定的格式转换\n",
    "# import time\n",
    "# import datetime, deate\n",
    "# d = datetime.strptiime()\n",
    "print(time.strftime('%Y-%m-%d %H:%M:%S', time.localtime()))"
   ]
  },
  {
   "cell_type": "code",
   "execution_count": 72,
   "metadata": {},
   "outputs": [
    {
     "name": "stdout",
     "output_type": "stream",
     "text": [
      "[0, 1, 2, 3, 4, 5, 6, 7, 8]\n",
      "[6, 1, 7, 0, 5, 2, 3, 4, 8]\n"
     ]
    }
   ],
   "source": [
    "# 随机打乱列表中的元素数据\n",
    "import random\n",
    "a = list(range(9))\n",
    "print(a)\n",
    "random.shuffle(a)\n",
    "print(a)"
   ]
  },
  {
   "cell_type": "code",
   "execution_count": 73,
   "metadata": {},
   "outputs": [
    {
     "name": "stdout",
     "output_type": "stream",
     "text": [
      "[[1 2 3]\n",
      " [4 5 6]]\n",
      "(2, 3)\n"
     ]
    }
   ],
   "source": [
    "# 矩阵的行列数\n",
    "from numpy import shape, array\n",
    "a = array([[1,2,3], [4,5,6]])\n",
    "print(a)\n",
    "print(a.shape)"
   ]
  },
  {
   "cell_type": "code",
   "execution_count": 74,
   "metadata": {},
   "outputs": [
    {
     "name": "stdout",
     "output_type": "stream",
     "text": [
      "[[ 1.]\n",
      " [ 1.]]\n"
     ]
    }
   ],
   "source": [
    "# 指定行数全一矩阵\n",
    "# 返回按要求的矩阵\n",
    "from numpy import ones\n",
    "ones = ones((2,1))\n",
    "print(ones)"
   ]
  },
  {
   "cell_type": "code",
   "execution_count": 75,
   "metadata": {},
   "outputs": [
    {
     "name": "stdout",
     "output_type": "stream",
     "text": [
      "[[ 0.25965624  0.45323682  0.03351173  0.12836733]\n",
      " [ 0.87828278  0.74690174  0.10945705  0.77579851]\n",
      " [ 0.90154922  0.24570848  0.48504963  0.06608306]]\n",
      "[[ 0.45323682  0.03351173]\n",
      " [ 0.74690174  0.10945705]]\n",
      "[ 0.87828278  0.74690174  0.10945705  0.77579851]\n",
      "[[ 0.87828278  0.74690174  0.10945705  0.77579851]]\n",
      "------------------------------\n",
      "[[ 0.25369692  0.20447244]\n",
      " [ 0.19915316  0.34787855]\n",
      " [ 0.45589604  0.08972268]\n",
      " [ 0.24679187  0.98888357]]\n",
      "[ 0.25369692  0.34787855  0.45589604]\n",
      "[ 0.20447244  0.20447244]\n",
      "----------------------------------\n",
      "int32\n",
      "float64\n",
      "int64\n"
     ]
    }
   ],
   "source": [
    "import numpy as np\n",
    "# 维数\n",
    "a = np.random.random((3, 4))\n",
    "print(a)\n",
    "\n",
    "# 取到2，从1开始取到3，含头不含尾\n",
    "b = a[:2, 1:3]\n",
    "print(b)\n",
    "\n",
    "row_r1 = a[1, :]\n",
    "row_r2 = a[1:2, :]\n",
    "# 区别\n",
    "# 使用切片语法访问数组时，得到的是原数组的子集\n",
    "print(row_r1)\n",
    "print(row_r2)\n",
    "print('------------------------------')\n",
    "\n",
    "ar = np.random.random((4, 2))\n",
    "print(ar)\n",
    "# 行(row) 列(col)\n",
    "print(ar[[0,1,2], [0,1,0]])\n",
    "print(ar[[0,0], [1,1]])\n",
    "print('----------------------------------')\n",
    "\n",
    "x = np.array([1,2])\n",
    "# int32\n",
    "print(x.dtype)\n",
    "x = np.array([1.1,2.3])\n",
    "# float64\n",
    "print(x.dtype)\n",
    "x = np.array([1,2], dtype=np.int64)\n",
    "# int64\n",
    "print(x.dtype)"
   ]
  },
  {
   "cell_type": "code",
   "execution_count": 79,
   "metadata": {},
   "outputs": [
    {
     "name": "stdout",
     "output_type": "stream",
     "text": [
      "[[1, 0, 0, 0, 2], [0, 0, 3, 0, 2]]\n",
      "(array([0, 0, 1, 1], dtype=int64), array([0, 4, 2, 4], dtype=int64))\n"
     ]
    },
    {
     "data": {
      "text/plain": [
       "'\\n第一行是所有非零数所在行值\\n第二行是所有非零值所在列值\\n'"
      ]
     },
     "execution_count": 79,
     "metadata": {},
     "output_type": "execute_result"
    }
   ],
   "source": [
    "# 函数返回矩阵中非0元素的位置\n",
    "from numpy import nonzero\n",
    "x =[[1,0,0,0,2], [0,0,3,0,2]]\n",
    "print(x)\n",
    "print(nonzero(x))\n",
    "'''\n",
    "第一行是所有非零数所在行值\n",
    "第二行是所有非零值所在列值\n",
    "'''"
   ]
  },
  {
   "cell_type": "code",
   "execution_count": 80,
   "metadata": {},
   "outputs": [
    {
     "name": "stdout",
     "output_type": "stream",
     "text": [
      "[ 4 10 18]\n"
     ]
    }
   ],
   "source": [
    "# 乘\n",
    "import numpy as np\n",
    "from numpy import multiply\n",
    "\n",
    "x1 = [1,2,3]\n",
    "x2 = [4,5,6]\n",
    "\n",
    "my = multiply(x1,x2)\n",
    "print(my)"
   ]
  },
  {
   "cell_type": "code",
   "execution_count": 81,
   "metadata": {},
   "outputs": [
    {
     "name": "stdout",
     "output_type": "stream",
     "text": [
      "3.75\n",
      "4.5\n",
      "[ 2.  3.  4.  5.  6.  7.]\n",
      "[ 3.5  5.5]\n"
     ]
    }
   ],
   "source": [
    "# 均值\n",
    "from numpy import mean\n",
    "b = [1,3,5,6]\n",
    "print(mean(b))\n",
    "l = [[1,2,3,4,5,6],[3,4,5,6,7,8]]\n",
    "# 全部元素求均值\n",
    "print(mean(l))\n",
    "# 按列求均值\n",
    "print(mean(l, 0))\n",
    "# 按行求均值\n",
    "print(mean(l, 1))"
   ]
  },
  {
   "cell_type": "code",
   "execution_count": 82,
   "metadata": {},
   "outputs": [
    {
     "name": "stdout",
     "output_type": "stream",
     "text": [
      "[[1 2 3]\n",
      " [4 5 6]]\n"
     ]
    }
   ],
   "source": [
    "# 将列表转换成矩阵形式\n",
    "from numpy import mat\n",
    "a = [1,2,3]\n",
    "b = [4,5,6]\n",
    "s = [a, b]\n",
    "print(mat(s))\n"
   ]
  },
  {
   "cell_type": "code",
   "execution_count": 83,
   "metadata": {},
   "outputs": [
    {
     "name": "stdout",
     "output_type": "stream",
     "text": [
      "[[1 0 0]\n",
      " [0 2 0]\n",
      " [0 0 3]]\n",
      "[[ 1.          0.          0.        ]\n",
      " [ 0.          0.5         0.        ]\n",
      " [ 0.          0.          0.33333333]]\n",
      "[[ 1.          0.         -0.        ]\n",
      " [ 0.          0.5        -0.        ]\n",
      " [ 0.          0.          0.33333333]]\n",
      "[[1 2 3]\n",
      " [4 5 6]\n",
      " [7 8 9]]\n"
     ]
    }
   ],
   "source": [
    "# 逆矩阵\n",
    "from numpy import diag, linalg, mat\n",
    "d = [1,2,3]\n",
    "dd = diag(d)\n",
    "print(dd)\n",
    "print(linalg.inv(dd))\n",
    "print(mat(dd).I)\n",
    "\n",
    "l = [[1,2,3], [4,5,6], [7,8,9]]\n",
    "print(mat(l))\n"
   ]
  },
  {
   "cell_type": "code",
   "execution_count": 84,
   "metadata": {},
   "outputs": [
    {
     "name": "stdout",
     "output_type": "stream",
     "text": [
      "[[ 1.  0.  0.  0.]\n",
      " [ 0.  1.  0.  0.]\n",
      " [ 0.  0.  1.  0.]\n",
      " [ 0.  0.  0.  1.]]\n",
      "[[ 1.  0.  0.]\n",
      " [ 0.  1.  0.]\n",
      " [ 0.  0.  1.]\n",
      " [ 0.  0.  0.]]\n"
     ]
    }
   ],
   "source": [
    "# 单元矩阵 -> 对角\n",
    "from numpy import eye\n",
    "print(eye(4))\n",
    "print(eye(4, 3))"
   ]
  },
  {
   "cell_type": "code",
   "execution_count": 85,
   "metadata": {},
   "outputs": [
    {
     "name": "stdout",
     "output_type": "stream",
     "text": [
      "15\n",
      "6\n",
      "[2 2 2]\n",
      "[3 3]\n"
     ]
    }
   ],
   "source": [
    "# 求和\n",
    "from numpy import sum\n",
    "x = [[0,1,2], [2,1,0]]\n",
    "b = [1,3,5,6]\n",
    "print(sum(b))\n",
    "print(sum(x))\n",
    "# 列\n",
    "print(sum(x, 0))\n",
    "# 行\n",
    "print(sum(x, 1))\n"
   ]
  },
  {
   "cell_type": "code",
   "execution_count": 86,
   "metadata": {},
   "outputs": [
    {
     "name": "stdout",
     "output_type": "stream",
     "text": [
      "<class 'numpy.ndarray'>\n",
      "(3,)\n",
      "[4 2 3]\n",
      "[[1 2 3]\n",
      " [4 5 6]]\n",
      "(2, 3)\n",
      "6 1\n"
     ]
    }
   ],
   "source": [
    "import numpy as np\n",
    "a = np.array([1, 2, 3])\n",
    "print(type(a))\n",
    "# 维数\n",
    "print(a.shape)\n",
    "a[0] = 4\n",
    "print(a)\n",
    "\n",
    "b = np.array([[1,2,3], [4,5,6]])\n",
    "print(b)\n",
    "# 矩阵维数\n",
    "print(b.shape)\n",
    "print(b[1][2], b[0][0])\n"
   ]
  },
  {
   "cell_type": "code",
   "execution_count": 87,
   "metadata": {},
   "outputs": [
    {
     "name": "stdout",
     "output_type": "stream",
     "text": [
      "3.6875\n",
      "1.92028643697\n",
      "2.91666666667\n",
      "[ 1.  1.  1.  1.  1.  1.]\n",
      "[ 2.91666667  2.91666667]\n"
     ]
    }
   ],
   "source": [
    "# std 标准方差\n",
    "# var 方差\n",
    "import numpy as np\n",
    "from numpy import var, std, power\n",
    "b = [1,3,5,6]\n",
    "print(var(b))\n",
    "print(std(b))\n",
    "\n",
    "l = [[1,2,3,4,5,6], [3,4,5,6,7,8]]\n",
    "print(var(l[0]))\n",
    "print(var(l,0)) # 按列求方差\n",
    "print(var(l,1)) # 按行求方差"
   ]
  },
  {
   "cell_type": "code",
   "execution_count": 88,
   "metadata": {},
   "outputs": [
    {
     "name": "stdout",
     "output_type": "stream",
     "text": [
      "[[  6.   8.]\n",
      " [ 10.  12.]]\n",
      "[[-4. -4.]\n",
      " [-4. -4.]]\n",
      "[[  5.  12.]\n",
      " [ 21.  32.]]\n",
      "[[ 0.2         0.33333333]\n",
      " [ 0.42857143  0.5       ]]\n",
      "[[ 1.          1.41421356]\n",
      " [ 1.73205081  2.        ]]\n",
      "[[ 19.  22.]\n",
      " [ 43.  50.]]\n"
     ]
    }
   ],
   "source": [
    "import numpy as np\n",
    "x = np.array([[1,2], [3,4]], dtype=np.float64)\n",
    "y = np.array([[5,6], [7,8]], dtype=np.float64)\n",
    "\n",
    "# print(x+y)\n",
    "print(np.add(x,y))\n",
    "\n",
    "# print(x-y)\n",
    "print(np.subtract(x,y))\n",
    "\n",
    "# print(x*y)\n",
    "print(np.multiply(x,y))\n",
    "\n",
    "# print(x/y)\n",
    "print(np.divide(x,y))\n",
    "\n",
    "# 开方\n",
    "print(np.sqrt(x))\n",
    "\n",
    "# 矩阵乘\n",
    "# [[1 * 5 + 2 * 7, 1 * 6 + 2 * 8], [3 * 5 + 4 * 7, 3 * 6 + 4 * 8]]\n",
    "print(x.dot(y))"
   ]
  },
  {
   "cell_type": "code",
   "execution_count": 89,
   "metadata": {},
   "outputs": [
    {
     "name": "stdout",
     "output_type": "stream",
     "text": [
      "[4, 5, 6, 1, 2, 3]\n",
      "1 4\n",
      "2 5\n",
      "3 6\n"
     ]
    }
   ],
   "source": [
    "# 可以互换指定区域的位置\n",
    "l = [1,2,3,4,5,6]\n",
    "print(l[3:6] + l[0:3])\n",
    "# 成对获取x, y的值\n",
    "a = [1,2,3]\n",
    "b = [4,5,6]\n",
    "for x, y in zip(a, b):\n",
    "  print(x, y)\n"
   ]
  },
  {
   "cell_type": "code",
   "execution_count": 90,
   "metadata": {},
   "outputs": [
    {
     "name": "stdout",
     "output_type": "stream",
     "text": [
      "[[ 0.  0.]\n",
      " [ 0.  0.]\n",
      " [ 0.  0.]]\n",
      "[[ 1.  1.]\n",
      " [ 1.  1.]\n",
      " [ 1.  1.]]\n",
      "[[ 0.  0.  0.]\n",
      " [ 0.  0.  0.]]\n"
     ]
    }
   ],
   "source": [
    "# 指定行列全零矩阵\n",
    "from numpy import zeros, ones\n",
    "print(zeros((3, 2)))\n",
    "# 全一\n",
    "print(ones((3, 2)))\n",
    "import tensorflow as tf\n",
    "_x = tf.Variable(tf.zeros([2, 3]))\n",
    "init = tf.global_variables_initializer()\n",
    "with tf.Session() as sess:\n",
    "  sess.run(init)\n",
    "  result = sess.run(_x)\n",
    "  print(result)\n"
   ]
  },
  {
   "cell_type": "code",
   "execution_count": 91,
   "metadata": {},
   "outputs": [
    {
     "data": {
      "text/plain": [
       "'\\nfor i in xrange(3):       \\n     print i test=[1,2,3,4]    \\nprint test[:]    \\nprint test[2:3]    \\nfor i in xrange(2,5):        \\n    print i\\n结果：\\n0 1 2\\n[1, 2, 3, 4] [3]\\n2 3 4\\n'"
      ]
     },
     "execution_count": 91,
     "metadata": {},
     "output_type": "execute_result"
    }
   ],
   "source": [
    "# xrange用于循环中，参数为一个整数的话，可循环遍历小于该参数的值\n",
    "# 两个参数，则循环遍历两个整数之间的值\n",
    "# python3 中木有\n",
    "'''\n",
    "for i in xrange(3):       \n",
    "     print i test=[1,2,3,4]    \n",
    "print test[:]    \n",
    "print test[2:3]    \n",
    "for i in xrange(2,5):        \n",
    "    print i\n",
    "结果：\n",
    "0 1 2\n",
    "[1, 2, 3, 4] [3]\n",
    "2 3 4\n",
    "'''"
   ]
  },
  {
   "cell_type": "code",
   "execution_count": 92,
   "metadata": {},
   "outputs": [
    {
     "name": "stdout",
     "output_type": "stream",
     "text": [
      "32\n"
     ]
    }
   ],
   "source": [
    "# 向量的点积\n",
    "from numpy import vdot\n",
    "a = [1,2,3]\n",
    "b = [4,5,6]\n",
    "# 对应位置相乘求和\n",
    "print(vdot(a, b))"
   ]
  },
  {
   "cell_type": "code",
   "execution_count": 93,
   "metadata": {},
   "outputs": [
    {
     "name": "stdout",
     "output_type": "stream",
     "text": [
      "<class 'str'>\n"
     ]
    }
   ],
   "source": [
    "# 元组\n",
    "\n",
    "# 将数字转换为字符串\n",
    "print(type(str(321)))\n"
   ]
  },
  {
   "cell_type": "code",
   "execution_count": 94,
   "metadata": {},
   "outputs": [
    {
     "name": "stdout",
     "output_type": "stream",
     "text": [
      "<class 'list'>\n",
      "<class 'numpy.matrixlib.defmatrix.matrix'>\n",
      "[[1]\n",
      " [2]\n",
      " [3]]\n",
      "[[1 2 3]]\n",
      "[[1 2 3]]\n"
     ]
    }
   ],
   "source": [
    "# 将矩阵进行转置\n",
    "# T\n",
    "from numpy import transpose, mat\n",
    "a = [[1], [2], [3]]\n",
    "print(type(a))\n",
    "a = mat(a)\n",
    "print(type(a))\n",
    "print(a)\n",
    "print(a.transpose())\n",
    "print(a.T)\n"
   ]
  },
  {
   "cell_type": "code",
   "execution_count": null,
   "metadata": {
    "collapsed": true
   },
   "outputs": [],
   "source": []
  }
 ],
 "metadata": {
  "kernelspec": {
   "display_name": "Python 3",
   "language": "python",
   "name": "python3"
  },
  "language_info": {
   "codemirror_mode": {
    "name": "ipython",
    "version": 3
   },
   "file_extension": ".py",
   "mimetype": "text/x-python",
   "name": "python",
   "nbconvert_exporter": "python",
   "pygments_lexer": "ipython3",
   "version": "3.6.1"
  }
 },
 "nbformat": 4,
 "nbformat_minor": 2
}
