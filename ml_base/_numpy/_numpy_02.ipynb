{
 "cells": [
  {
   "cell_type": "code",
   "execution_count": 42,
   "metadata": {
    "collapsed": true
   },
   "outputs": [],
   "source": [
    "import numpy as np\n",
    "import math \n",
    "import time"
   ]
  },
  {
   "cell_type": "code",
   "execution_count": 16,
   "metadata": {},
   "outputs": [
    {
     "name": "stdout",
     "output_type": "stream",
     "text": [
      "[[ 0.  1.  2.]\n",
      " [ 3.  4.  5.]\n",
      " [ 6.  7.  8.]]\n",
      "[[ 0.  2.]\n",
      " [ 6.  8.]]\n"
     ]
    }
   ],
   "source": [
    "a = np.array([[0,1,2], [3,4,5], [6,7,8]], dtype=np.float32)\n",
    "print(a)\n",
    "# 取\n",
    "# 行步长， 列步长\n",
    "b = a[::2, ::2]\n",
    "print(b)"
   ]
  },
  {
   "cell_type": "code",
   "execution_count": 17,
   "metadata": {},
   "outputs": [
    {
     "name": "stdout",
     "output_type": "stream",
     "text": [
      "[ 0.    1.25  2.5   3.75  5.  ]\n",
      "[ 0.          0.94898462  0.59847214 -0.57156132 -0.95892427]\n"
     ]
    }
   ],
   "source": [
    "# linspace函数创建数组, params -> 初值， 终值，元素个数， 是否包含终值(缺省为True)\n",
    "x = np.linspace(0, 5, 5)\n",
    "print(x)\n",
    "# ufunc函数 -> universal function\n",
    "# 基于c实现，速度快\n",
    "# 对数组中的每个元素进行正弦计算\n",
    "y = np.sin(x)\n",
    "print(y)"
   ]
  },
  {
   "cell_type": "code",
   "execution_count": 18,
   "metadata": {},
   "outputs": [
    {
     "name": "stdout",
     "output_type": "stream",
     "text": [
      "math.sin => 0.2443837434292533\n",
      "np.sin => 0.007756388311591422\n"
     ]
    }
   ],
   "source": [
    "# 对比numpy.math和python标准库的math.sin计算速度\n",
    "x = [i * 0.001 for i in range(1000000)]\n",
    "start = time.clock()\n",
    "# enumerate -> 枚举\n",
    "# 遍历\n",
    "for i, t in enumerate(x):\n",
    "    x[i] = math.sin(t)\n",
    "print('math.sin => %s' % (float(time.clock()) - float(start)))\n",
    "\n",
    "x = np.array(x)\n",
    "start = time.clock()\n",
    "np.sin(x)\n",
    "print('np.sin => %s' % (float(time.clock()) - float(start)))"
   ]
  },
  {
   "cell_type": "code",
   "execution_count": 19,
   "metadata": {},
   "outputs": [
    {
     "name": "stdout",
     "output_type": "stream",
     "text": [
      "[0 1 2 3]\n",
      "[3 4 5 6]\n",
      "[3 5 7 9]\n"
     ]
    }
   ],
   "source": [
    "a = np.arange(0, 4)\n",
    "print(a)\n",
    "b = np.arange(3, 7)\n",
    "print(b)\n",
    "# 对应元素的和\n",
    "c = np.add(a, b)\n",
    "print(c)"
   ]
  },
  {
   "cell_type": "code",
   "execution_count": 22,
   "metadata": {},
   "outputs": [
    {
     "data": {
      "text/plain": [
       "'\\ny = x1 + x2:\\tadd(x1, x2 [, y])\\ny = x1 - x2:\\tsubtract(x1, x2 [, y])\\ny = x1 * x2:\\tmultiply (x1, x2 [, y])\\ny = x1 / x2:\\tdivide (x1, x2 [, y]), 如果两个数组的元素为整数，那么用整数除法\\ny = x1 / x2:\\ttrue divide (x1, x2 [, y]), 总是返回精确的商\\ny = x1 // x2:\\tfloor divide (x1, x2 [, y]), 总是对返回值取整\\ny = -x:\\tnegative(x [,y])\\ny = x1**x2:\\tpower(x1, x2 [, y])\\ny = x1 % x2:\\tremainder(x1, x2 [, y]), mod(x1, x2, [, y])\\n'"
      ]
     },
     "execution_count": 22,
     "metadata": {},
     "output_type": "execute_result"
    }
   ],
   "source": [
    "'''\n",
    "y = x1 + x2:\tadd(x1, x2 [, y])\n",
    "y = x1 - x2:\tsubtract(x1, x2 [, y])\n",
    "y = x1 * x2:\tmultiply (x1, x2 [, y])\n",
    "y = x1 / x2:\tdivide (x1, x2 [, y]), 如果两个数组的元素为整数，那么用整数除法\n",
    "y = x1 / x2:\ttrue divide (x1, x2 [, y]), 总是返回精确的商\n",
    "y = x1 // x2:\tfloor divide (x1, x2 [, y]), 总是对返回值取整\n",
    "y = -x:\tnegative(x [,y])\n",
    "y = x1**x2:\tpower(x1, x2 [, y])\n",
    "y = x1 % x2:\tremainder(x1, x2 [, y]), mod(x1, x2, [, y])\n",
    "'''"
   ]
  },
  {
   "cell_type": "code",
   "execution_count": 23,
   "metadata": {
    "collapsed": true
   },
   "outputs": [],
   "source": [
    "# 广播\n",
    "# 当我们使用ufunc函数对两个数组进行计算时，ufunc函数会对这两个数组的对应元素进行计算，因此它要求这两个数组有相同的大小(shape相同)。如果两个数组的shape不同的话，会进行如下的广播(broadcasting)处理：\n",
    "# 让所有输入数组都向其中shape最长的数组看齐，shape中不足的部分都通过在前面加1补齐\n",
    "# 输出数组的shape是输入数组shape的各个轴上的最大值\n",
    "# 如果输入数组的某个轴和输出数组的对应轴的长度相同或者其长度为1时，这个数组能够用来计算，否则出错\n",
    "# 当输入数组的某个轴的长度为1时，沿着此轴运算时都用此轴上的第一组值"
   ]
  },
  {
   "cell_type": "code",
   "execution_count": 33,
   "metadata": {},
   "outputs": [
    {
     "name": "stdout",
     "output_type": "stream",
     "text": [
      "[[ 0  0  0 ...,  0  0  0]\n",
      " [10 10 10 ..., 10 10 10]\n",
      " [20 20 20 ..., 20 20 20]\n",
      " [30 30 30 ..., 30 30 30]\n",
      " [40 40 40 ..., 40 40 40]\n",
      " [50 50 50 ..., 50 50 50]]\n",
      "[0 0 0 ..., 4 4 4]\n"
     ]
    }
   ],
   "source": [
    "a = a.repeat(5, axis=1)\n",
    "print(a)\n",
    "b = b.repeat(6, axis=0)\n",
    "print(b)"
   ]
  },
  {
   "cell_type": "code",
   "execution_count": 38,
   "metadata": {},
   "outputs": [
    {
     "name": "stdout",
     "output_type": "stream",
     "text": [
      "[[0]\n",
      " [1]\n",
      " [2]\n",
      " [3]\n",
      " [4]]\n",
      "[[0 1 2 3 4]]\n",
      "[[ 0.        ]\n",
      " [ 0.33333333]\n",
      " [ 0.66666667]\n",
      " [ 1.        ]]\n",
      "[[ 0.   0.5  1. ]]\n"
     ]
    }
   ],
   "source": [
    "# ogrid -> 像一个多维数组一样，用切片组元作为下标进行存取，返回的是一组可以用来广播计算的数组\n",
    "# 开始值:结束值:步长，和np.arange(开始值, 结束值, 步长)类似\n",
    "x, y = np.ogrid[0:5, 0:5]\n",
    "print(x)\n",
    "print(y)\n",
    "# 开始值:结束值:长度j，当第三个参数为虚数时，它表示返回的数组的长度，和np.linspace(开始值, 结束值, 长度)类似\n",
    "a, b = np.ogrid[0:1:4j, 0:1:3j]\n",
    "print(a)\n",
    "print(b)"
   ]
  },
  {
   "cell_type": "code",
   "execution_count": 44,
   "metadata": {},
   "outputs": [
    {
     "name": "stdout",
     "output_type": "stream",
     "text": [
      "6\n",
      "[ 6 15]\n"
     ]
    }
   ],
   "source": [
    "# 1 + 2 + 3\n",
    "print(np.add.reduce([1,2,3]))\n",
    "# 1, 4 + 2, 5 + 3, 6\n",
    "print(np.add.reduce([[1,2,3], [4,5,6]], axis=1))"
   ]
  },
  {
   "cell_type": "code",
   "execution_count": null,
   "metadata": {
    "collapsed": true
   },
   "outputs": [],
   "source": []
  }
 ],
 "metadata": {
  "kernelspec": {
   "display_name": "Python 3",
   "language": "python",
   "name": "python3"
  },
  "language_info": {
   "codemirror_mode": {
    "name": "ipython",
    "version": 3
   },
   "file_extension": ".py",
   "mimetype": "text/x-python",
   "name": "python",
   "nbconvert_exporter": "python",
   "pygments_lexer": "ipython3",
   "version": "3.6.1"
  }
 },
 "nbformat": 4,
 "nbformat_minor": 2
}
