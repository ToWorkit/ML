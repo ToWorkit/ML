{
 "cells": [
  {
   "cell_type": "code",
   "execution_count": 14,
   "metadata": {},
   "outputs": [],
   "source": [
    "import numpy as np"
   ]
  },
  {
   "cell_type": "code",
   "execution_count": null,
   "metadata": {},
   "outputs": [],
   "source": [
    "# 二进制和文本\n",
    "# 二进制又分 numpy 专用的格式化二进制类型和无格式类型"
   ]
  },
  {
   "cell_type": "code",
   "execution_count": null,
   "metadata": {},
   "outputs": [],
   "source": [
    "a = np.arange(0, 12)\n",
    "a.shape = 3,4\n",
    "print(a)\n",
    "# tofile 将数组中的数据以二进制格式写入文件\n",
    "a.tofile('a.bin')\n",
    "# tofile 输出的数据没有格式，读取回来数据时需要格式化数据\n",
    "b = np.fromfile('a.bin', dtype=np.int32)\n",
    "print('b = %s' % b)\n",
    "# 读入的时候设置正确的dtype和shape才能保证数据一致\n",
    "# 按照原数据的shape修改读取后数据的shape\n",
    "b.shape = 3, 4\n",
    "print(b)\n",
    "print('-----------------------')\n",
    "# 使用load和save Numpy专用的二进制类型保存数据，会自动处理元素类型和shape的信息\n",
    "np.save('a.npy', a)\n",
    "c = np.load('a.npy')\n",
    "print(c)"
   ]
  },
  {
   "cell_type": "code",
   "execution_count": 16,
   "metadata": {},
   "outputs": [
    {
     "name": "stdout",
     "output_type": "stream",
     "text": [
      "<numpy.lib.npyio.NpzFile object at 0x00000000059B6E48>\n",
      "[[1 2 3]\n",
      " [4 5 6]]\n",
      "[ 0.   0.1  0.2  0.3  0.4  0.5  0.6  0.7  0.8  0.9]\n",
      "[ 0.          0.09983342  0.19866933  0.29552021  0.38941834  0.47942554\n",
      "  0.56464247  0.64421769  0.71735609  0.78332691]\n"
     ]
    }
   ],
   "source": [
    "'''\n",
    "将多个数组保存到一个文件中的话，可以使用numpy.savez函数。\n",
    "savez函数的第一个参数是文件名，其后的参数都是需要保存的数组，也可以使用关键字参数为数组起一个名字，非关键字参数传递的数组会自动起名为arr_0, arr_1, ...。\n",
    "savez函数输出的是一个压缩文件(扩展名为npz)，其中每个文件都是一个save函数保存的npy文件，文件名对应于数组名。\n",
    "load函数自动识别npz文件，并且返回一个类似于字典的对象，可以通过数组名作为关键字获取数组的内容\n",
    "'''\n",
    "a = np.array([[1,2,3], [4,5,6]])\n",
    "b = np.arange(0, 1.0, 0.1)\n",
    "# 正弦\n",
    "c = np.sin(b)\n",
    "# 可以指定键 值， 也可以使用默认的 键\n",
    "np.savez('result.npz', a, b_ = b, sin_array = c)\n",
    "# 读取\n",
    "r = np.load('result.npz')\n",
    "print(r)\n",
    "# a\n",
    "print(r['arr_0'])\n",
    "# b\n",
    "print(r['b_'])\n",
    "# c\n",
    "print(r['sin_array'])"
   ]
  },
  {
   "cell_type": "code",
   "execution_count": 21,
   "metadata": {},
   "outputs": [
    {
     "name": "stdout",
     "output_type": "stream",
     "text": [
      "[[  0.    0.5   1.    1.5   2.    2.5]\n",
      " [  3.    3.5   4.    4.5   5.    5.5]\n",
      " [  6.    6.5   7.    7.5   8.    8.5]\n",
      " [  9.    9.5  10.   10.5  11.   11.5]]\n",
      "[[  0.   0.   1.   1.   2.   2.]\n",
      " [  3.   3.   4.   4.   5.   5.]\n",
      " [  6.   6.   7.   7.   8.   8.]\n",
      " [  9.   9.  10.  10.  11.  11.]]\n"
     ]
    }
   ],
   "source": [
    "# 使用 savetxt 和 loadtxt 可以读写 1维 和 2维 的数组\n",
    "# 广播 -> 4 行，-1(剩下的自动匹配)\n",
    "a = np.arange(0, 12, 0.5).reshape(4, -1)\n",
    "# 缺省(默认) 按'%.18e'格式保存数据，以空格分隔\n",
    "np.savetxt('a.txt', a)\n",
    "print(np.loadtxt('a.txt'))\n",
    "# 修改为保存整数，以逗号分隔\n",
    "np.savetxt('a.txt', a, fmt='%d', delimiter=',')\n",
    "# 获取时需要使用 ，分隔\n",
    "print(np.loadtxt('a.txt', delimiter=','))"
   ]
  },
  {
   "cell_type": "code",
   "execution_count": 30,
   "metadata": {},
   "outputs": [
    {
     "name": "stdout",
     "output_type": "stream",
     "text": [
      "[0 1 2 3 4 5 6 7]\n",
      "[ 0  1  3  6 10 15 21 28]\n"
     ]
    },
    {
     "ename": "AttributeError",
     "evalue": "module 'numpy' has no attribute 'read'",
     "output_type": "error",
     "traceback": [
      "\u001b[1;31m---------------------------------------------------------------------------\u001b[0m",
      "\u001b[1;31mAttributeError\u001b[0m                            Traceback (most recent call last)",
      "\u001b[1;32m<ipython-input-30-1ebe8f7b3355>\u001b[0m in \u001b[0;36m<module>\u001b[1;34m()\u001b[0m\n\u001b[0;32m     12\u001b[0m \u001b[0mf\u001b[0m\u001b[1;33m.\u001b[0m\u001b[0mclose\u001b[0m\u001b[1;33m(\u001b[0m\u001b[1;33m)\u001b[0m\u001b[1;33m\u001b[0m\u001b[0m\n\u001b[0;32m     13\u001b[0m \u001b[1;31m# 顺序读出\u001b[0m\u001b[1;33m\u001b[0m\u001b[1;33m\u001b[0m\u001b[0m\n\u001b[1;32m---> 14\u001b[1;33m \u001b[0mprint\u001b[0m\u001b[1;33m(\u001b[0m\u001b[0mnp\u001b[0m\u001b[1;33m.\u001b[0m\u001b[0mread\u001b[0m\u001b[1;33m(\u001b[0m\u001b[0mf\u001b[0m\u001b[1;33m)\u001b[0m\u001b[1;33m)\u001b[0m\u001b[1;33m\u001b[0m\u001b[0m\n\u001b[0m",
      "\u001b[1;31mAttributeError\u001b[0m: module 'numpy' has no attribute 'read'"
     ]
    }
   ],
   "source": [
    "# 将多个数组存储到一个npy文件中\n",
    "a = np.arange(8)\n",
    "print(a)\n",
    "b = np.add.accumulate(a)\n",
    "print(b)\n",
    "c = a + b\n",
    "f = file('result.npy', 'wb')\n",
    "# 顺序保存a, b, c保存至文件对象 f\n",
    "np.save(f, a)\n",
    "np.save(f, b)\n",
    "np.save(f, c)\n",
    "f.close()\n",
    "# 顺序读出\n",
    "print(np.load(f))\n",
    "print(np.load(f))"
   ]
  },
  {
   "cell_type": "code",
   "execution_count": null,
   "metadata": {},
   "outputs": [],
   "source": []
  }
 ],
 "metadata": {
  "kernelspec": {
   "display_name": "Python 3",
   "language": "python",
   "name": "python3"
  },
  "language_info": {
   "codemirror_mode": {
    "name": "ipython",
    "version": 3
   },
   "file_extension": ".py",
   "mimetype": "text/x-python",
   "name": "python",
   "nbconvert_exporter": "python",
   "pygments_lexer": "ipython3",
   "version": "3.6.0"
  }
 },
 "nbformat": 4,
 "nbformat_minor": 2
}
