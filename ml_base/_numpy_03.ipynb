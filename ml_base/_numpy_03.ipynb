{
 "cells": [
  {
   "cell_type": "code",
   "execution_count": 1,
   "metadata": {},
   "outputs": [],
   "source": [
    "import numpy as np"
   ]
  },
  {
   "cell_type": "code",
   "execution_count": 9,
   "metadata": {},
   "outputs": [
    {
     "name": "stdout",
     "output_type": "stream",
     "text": [
      "[[ 0  1  2  3  4]\n",
      " [10 11 12 13 14]\n",
      " [20 21 22 23 24]\n",
      " [30 31 32 33 34]\n",
      " [40 41 42 43 44]\n",
      " [50 51 52 53 54]]\n",
      "[ 2 13 24]\n",
      "[42 43 44]\n",
      "[[42 43 44]\n",
      " [52 53 54]]\n",
      "[[ 0  1  2  3  4]\n",
      " [10 11 12 13 14]\n",
      " [30 31 32 33 34]]\n",
      "[ 3 13 33]\n"
     ]
    }
   ],
   "source": [
    "a = np.arange(0, 60, 10).reshape((-1, 1)) + np.arange(5)\n",
    "print(a)\n",
    "# 二维数组切片\n",
    "# 第 0 行 第 2 位下标\n",
    "print(a[[0, 1, 2], [2, 3, 4]])\n",
    "# 第 4 行 的 2，3, 4下标\n",
    "print(a[4, [2, 3, 4]])\n",
    "# 从第 4 行开始后面的都要\n",
    "print(a[4:, [2, 3, 4]])\n",
    "\n",
    "# 布尔值索引\n",
    "i = np.array([True, True, False, True, False, False])\n",
    "print(a[i])\n",
    "# 取所有行的第 3 个下标\n",
    "print(a[i, 3])"
   ]
  },
  {
   "cell_type": "code",
   "execution_count": 27,
   "metadata": {},
   "outputs": [
    {
     "name": "stdout",
     "output_type": "stream",
     "text": [
      "[[1 2]\n",
      " [3 4]\n",
      " [5 6]]\n",
      "[[1 2]\n",
      " [2 3]\n",
      " [1 2]\n",
      " [3 4]]\n",
      "去重: [[1 2]\n",
      " [3 4]\n",
      " [2 3]] \n",
      "\n"
     ]
    }
   ],
   "source": [
    "# 元素去重\n",
    "a = np.array((1, 1, 2, 1, 1, 3, 4, 5, 6, 4, 3, 2))\n",
    "print(np.unique(a).reshape(3,-1))\n",
    "# 二维数组去重\n",
    "b = np.array(((1, 2), (2, 3), (1, 2), (3,4)))\n",
    "print(b)\n",
    "# 先取出放入元组中，然后就可以在放入set集合中，然后利用集合的特性去重\n",
    "print('去重: %s \\n' % np.array(list(set([tuple(t) for t in b]))))"
   ]
  },
  {
   "cell_type": "code",
   "execution_count": 30,
   "metadata": {},
   "outputs": [
    {
     "name": "stdout",
     "output_type": "stream",
     "text": [
      "[[1 2 3]\n",
      " [4 5 6]\n",
      " [7 8 9]]\n",
      "[[11 12 13]\n",
      " [14 15 16]\n",
      " [17 18 19]]\n",
      "-----------------------\n",
      "[[ 90  96 102]\n",
      " [216 231 246]\n",
      " [342 366 390]]\n",
      "------------------------\n",
      "[[ 11  24  39]\n",
      " [ 56  75  96]\n",
      " [119 144 171]]\n",
      "[[ 11  24  39]\n",
      " [ 56  75  96]\n",
      " [119 144 171]]\n"
     ]
    }
   ],
   "source": [
    "# 矩阵相乘\n",
    "a = np.arange(1, 10) .reshape(3, 3)\n",
    "print(a)\n",
    "b = a + 10\n",
    "print(b)\n",
    "print('-----------------------')\n",
    "# a 的第一行 乘以 b 的第一列 再求和\n",
    "print(np.dot(a, b))\n",
    "# 对应位置相乘\n",
    "print('------------------------')\n",
    "print(a * b)\n",
    "print(np.multiply(a, b))"
   ]
  },
  {
   "cell_type": "code",
   "execution_count": 32,
   "metadata": {},
   "outputs": [
    {
     "name": "stdout",
     "output_type": "stream",
     "text": [
      "[ 1  2  3  4  5  6  7  8  9 20 21 22 23 24 25 26 27 28 29]\n"
     ]
    }
   ],
   "source": [
    "# 拼接\n",
    "a = np.arange(1, 10)\n",
    "b = np.arange(20, 30)\n",
    "print(np.concatenate((a, b)))"
   ]
  },
  {
   "cell_type": "code",
   "execution_count": null,
   "metadata": {},
   "outputs": [],
   "source": []
  }
 ],
 "metadata": {
  "kernelspec": {
   "display_name": "Python 3",
   "language": "python",
   "name": "python3"
  },
  "language_info": {
   "codemirror_mode": {
    "name": "ipython",
    "version": 3
   },
   "file_extension": ".py",
   "mimetype": "text/x-python",
   "name": "python",
   "nbconvert_exporter": "python",
   "pygments_lexer": "ipython3",
   "version": "3.5.2"
  }
 },
 "nbformat": 4,
 "nbformat_minor": 2
}
